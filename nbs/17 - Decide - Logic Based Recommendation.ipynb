{
 "cells": [
  {
   "cell_type": "code",
   "execution_count": 1,
   "id": "e85ed483-d2ef-4920-a1b5-51dd0eddf4a6",
   "metadata": {},
   "outputs": [],
   "source": [
    "import setup\n",
    "setup.init_django()"
   ]
  },
  {
   "cell_type": "code",
   "execution_count": 2,
   "id": "9b9ca555-32fb-4f46-a606-48e409b235f7",
   "metadata": {},
   "outputs": [],
   "source": [
    "from market import services as market_services"
   ]
  },
  {
   "cell_type": "code",
   "execution_count": 3,
   "id": "31ffb14d-43f3-4bbb-813b-50526ff9bfd6",
   "metadata": {},
   "outputs": [],
   "source": [
    "ticker = \"X:BTCUSD\"\n",
    "days = 60\n",
    "signals = []\n"
   ]
  },
  {
   "cell_type": "code",
   "execution_count": 4,
   "id": "f4a2f847",
   "metadata": {},
   "outputs": [
    {
     "data": {
      "text/plain": [
       "86900"
      ]
     },
     "execution_count": 4,
     "metadata": {},
     "output_type": "execute_result"
    }
   ],
   "source": [
    "queryset = market_services.get_stock_quotes_queryset(ticker, days=days)\n",
    "queryset.count()\n"
   ]
  },
  {
   "cell_type": "code",
   "execution_count": 5,
   "id": "c9f10296",
   "metadata": {},
   "outputs": [
    {
     "data": {
      "text/plain": [
       "{'ma_5': 115198.38,\n",
       " 'ma_20': 116809.8025,\n",
       " 'ma_50': 112911.1256,\n",
       " 'ma_100': 108609.1794,\n",
       " 'ma_200': 99546.7003}"
      ]
     },
     "execution_count": 5,
     "metadata": {},
     "output_type": "execute_result"
    }
   ],
   "source": [
    "averages = market_services.get_daily_moving_averages(ticker)\n",
    "averages\n"
   ]
  },
  {
   "cell_type": "code",
   "execution_count": 6,
   "id": "bc618a21",
   "metadata": {},
   "outputs": [],
   "source": [
    "if averages.get('ma_5') > averages.get('ma_20'):\n",
    "    signals.append(1)\n",
    "else:\n",
    "    signals.append(-1)\n",
    "\n",
    "if averages.get('ma_20') > averages.get('ma_50'):\n",
    "    signals.append(1)\n",
    "else:\n",
    "    signals.append(-1)\n",
    "\n",
    "if averages.get('ma_50') > averages.get('ma_100'):\n",
    "    signals.append(1)\n",
    "else:\n",
    "    signals.append(-1)\n",
    "\n",
    "if averages.get('ma_100') > averages.get('ma_200'):\n",
    "    signals.append(1)\n",
    "else:\n",
    "    signals.append(-1)"
   ]
  },
  {
   "cell_type": "code",
   "execution_count": 7,
   "id": "b5cb40cd",
   "metadata": {},
   "outputs": [
    {
     "data": {
      "text/plain": [
       "{'current_price': 117515.49,\n",
       " 'conservative_target': 127067.80492000001,\n",
       " 'aggressive_target': 132969.23508,\n",
       " 'average_price': 111801.12032786885,\n",
       " 'period_high': 123231.07,\n",
       " 'period_low': 98225.01}"
      ]
     },
     "execution_count": 7,
     "metadata": {},
     "output_type": "execute_result"
    }
   ],
   "source": [
    "price_target = market_services.get_price_target(ticker, days=days, queryset=queryset)\n",
    "price_target\n"
   ]
  },
  {
   "cell_type": "code",
   "execution_count": 8,
   "id": "a44a49fb",
   "metadata": {},
   "outputs": [],
   "source": [
    "if price_target.get('conservative_target') > price_target.get('current_price'):\n",
    "    signals.append(1)\n",
    "else:\n",
    "    signals.append(-1)"
   ]
  },
  {
   "cell_type": "code",
   "execution_count": 9,
   "id": "b9c5d7bb",
   "metadata": {},
   "outputs": [
    {
     "data": {
      "text/plain": [
       "{'avg_volume_datapoint': 4.741565,\n",
       " 'latest_volume_datapoint': 3.3045,\n",
       " 'volume_change_percent_datapoint': -30.307820308273744}"
      ]
     },
     "execution_count": 9,
     "metadata": {},
     "output_type": "execute_result"
    }
   ],
   "source": [
    "volume_trend_datapoint = market_services.get_volume_trend_datapoint(ticker, days=days, queryset=queryset)\n",
    "volume_trend_datapoint"
   ]
  },
  {
   "cell_type": "code",
   "execution_count": 10,
   "id": "cd31c0db",
   "metadata": {},
   "outputs": [
    {
     "data": {
      "text/plain": [
       "{'avg_volume_daily': 7427.299911666667,\n",
       " 'latest_volume_daily': 8927.4669,\n",
       " 'volume_change_percent_daily': 20.19801281993337}"
      ]
     },
     "execution_count": 10,
     "metadata": {},
     "output_type": "execute_result"
    }
   ],
   "source": [
    "volume_trend_daily = market_services.get_volume_trend_daily(ticker, days=days, queryset=queryset)\n",
    "volume_trend_daily\n"
   ]
  },
  {
   "cell_type": "code",
   "execution_count": 11,
   "id": "7b0ca052",
   "metadata": {},
   "outputs": [],
   "source": [
    "if volume_trend_daily.get(\"volume_change_percent_daily\") > 20:\n",
    "    signals.append(1)\n",
    "elif volume_trend_daily.get(\"volume_chavolume_change_percent_dailynge_percent\") < -20:\n",
    "    signals.append(-1)\n",
    "else:\n",
    "    signals.append(0)"
   ]
  },
  {
   "cell_type": "code",
   "execution_count": 12,
   "id": "096c7158",
   "metadata": {},
   "outputs": [
    {
     "data": {
      "text/plain": [
       "{'rsi': 57.8118, 'avg_gain': 12.3408, 'avg_loss': 9.0057, 'period': 14}"
      ]
     },
     "execution_count": 12,
     "metadata": {},
     "output_type": "execute_result"
    }
   ],
   "source": [
    "rsi_data = market_services.calculate_rsi(ticker, period=14)\n",
    "rsi_data"
   ]
  },
  {
   "cell_type": "code",
   "execution_count": 13,
   "id": "15b5b513",
   "metadata": {},
   "outputs": [],
   "source": [
    "rsi = rsi_data.get('rsi')\n",
    "if rsi > 70:\n",
    "    signals.append(-1)  # Overbought\n",
    "elif rsi < 30:\n",
    "    signals.append(1) # Oversold\n",
    "else:\n",
    "    signals.append(0)"
   ]
  },
  {
   "cell_type": "code",
   "execution_count": 14,
   "id": "22e6d306",
   "metadata": {},
   "outputs": [
    {
     "data": {
      "text/plain": [
       "4"
      ]
     },
     "execution_count": 14,
     "metadata": {},
     "output_type": "execute_result"
    }
   ],
   "source": [
    "score = sum(signals)\n",
    "score"
   ]
  },
  {
   "cell_type": "code",
   "execution_count": 15,
   "id": "a3d1d0b7",
   "metadata": {},
   "outputs": [
    {
     "name": "stdout",
     "output_type": "stream",
     "text": [
      "BUY\n"
     ]
    }
   ],
   "source": [
    "if score>= 2:\n",
    "    print(\"BUY\")\n",
    "elif score <= -2:\n",
    "    print(\"SELL\")\n",
    "else:\n",
    "    print(\"HOLD\")"
   ]
  }
 ],
 "metadata": {
  "kernelspec": {
   "display_name": "venv",
   "language": "python",
   "name": "python3"
  },
  "language_info": {
   "codemirror_mode": {
    "name": "ipython",
    "version": 3
   },
   "file_extension": ".py",
   "mimetype": "text/x-python",
   "name": "python",
   "nbconvert_exporter": "python",
   "pygments_lexer": "ipython3",
   "version": "3.12.5"
  }
 },
 "nbformat": 4,
 "nbformat_minor": 5
}
