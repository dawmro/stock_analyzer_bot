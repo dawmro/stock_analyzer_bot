{
 "cells": [
  {
   "cell_type": "code",
   "execution_count": 1,
   "id": "e85ed483-d2ef-4920-a1b5-51dd0eddf4a6",
   "metadata": {},
   "outputs": [],
   "source": [
    "import setup\n",
    "setup.init_django()"
   ]
  },
  {
   "cell_type": "code",
   "execution_count": 2,
   "id": "9b9ca555-32fb-4f46-a606-48e409b235f7",
   "metadata": {},
   "outputs": [],
   "source": [
    "from market import services as market_services"
   ]
  },
  {
   "cell_type": "code",
   "execution_count": 3,
   "id": "1818f2b6",
   "metadata": {},
   "outputs": [],
   "source": [
    "def get_stock_indicators(ticker = \"X:BTCUSD\", days=30):\n",
    "    queryset = market_services.get_stock_quotes_queryset(ticker, days=days)\n",
    "    if queryset.count() == 0:\n",
    "        raise Exception(f\"Data for {ticker} not found\")\n",
    "    averages = market_services.get_daily_moving_averages(ticker)\n",
    "    price_target = market_services.get_price_target(ticker, days=days, queryset=queryset)\n",
    "    volume_trend_daily = market_services.get_volume_trend_daily(ticker, days=days, queryset=queryset)\n",
    "    rsi_data = market_services.calculate_rsi(ticker)\n",
    "    signals = []\n",
    "\n",
    "    if averages.get('ma_5') > averages.get('ma_20'):\n",
    "        signals.append(1)\n",
    "    else:\n",
    "        signals.append(-1)\n",
    "\n",
    "    if averages.get('ma_20') > averages.get('ma_50'):\n",
    "        signals.append(1)\n",
    "    else:\n",
    "        signals.append(-1)\n",
    "\n",
    "    if averages.get('ma_50') > averages.get('ma_100'):\n",
    "        signals.append(1)\n",
    "    else:\n",
    "        signals.append(-1)\n",
    "\n",
    "    if averages.get('ma_100') > averages.get('ma_200'):\n",
    "        signals.append(1)\n",
    "    else:\n",
    "        signals.append(-1)\n",
    "\n",
    "    if price_target.get('conservative_target') > price_target.get('current_price'):\n",
    "        signals.append(1)\n",
    "    else:\n",
    "        signals.append(-1)\n",
    "\n",
    "    if volume_trend_daily.get(\"volume_change_percent_daily\") > 20:\n",
    "        signals.append(1)\n",
    "    elif volume_trend_daily.get(\"volume_change_percent_daily\") < -20:\n",
    "        signals.append(-1)\n",
    "    else:\n",
    "        signals.append(0)\n",
    "\n",
    "    rsi = rsi_data.get('rsi')\n",
    "    if rsi > 70:\n",
    "        signals.append(-1)  # Overbought\n",
    "    elif rsi < 30:\n",
    "        signals.append(1) # Oversold\n",
    "    else:\n",
    "        signals.append(0)\n",
    "\n",
    "    return {\n",
    "        \"days\": days,\n",
    "        \"score\": sum(signals),\n",
    "        \"ticker\": ticker,\n",
    "        \"indicators\": {\n",
    "            **averages,\n",
    "            **price_target,\n",
    "            **volume_trend_daily,\n",
    "            **rsi_data,\n",
    "        }\n",
    "        \n",
    "    }"
   ]
  },
  {
   "cell_type": "code",
   "execution_count": 4,
   "id": "f828575b",
   "metadata": {},
   "outputs": [
    {
     "data": {
      "text/plain": [
       "{'days': 365,\n",
       " 'score': 2,\n",
       " 'ticker': 'X:BTCUSD',\n",
       " 'indicators': {'ma_5': 115198.38,\n",
       "  'ma_20': 116809.8025,\n",
       "  'ma_50': 112911.1256,\n",
       "  'ma_100': 108609.1794,\n",
       "  'ma_200': 99546.7003,\n",
       "  'current_price': 117515.49,\n",
       "  'conservative_target': 144523.29874,\n",
       "  'aggressive_target': 161208.75126000002,\n",
       "  'average_price': 89498.13543715847,\n",
       "  'period_high': 123231.07,\n",
       "  'period_low': 52530.0,\n",
       "  'avg_volume_daily': 12133.646692328766,\n",
       "  'latest_volume_daily': 8927.4669,\n",
       "  'volume_change_percent_daily': -26.42387629727017,\n",
       "  'rsi': 57.8118,\n",
       "  'avg_gain': 12.3408,\n",
       "  'avg_loss': 9.0057,\n",
       "  'period': 14}}"
      ]
     },
     "execution_count": 4,
     "metadata": {},
     "output_type": "execute_result"
    }
   ],
   "source": [
    "results = get_stock_indicators(ticker=\"X:BTCUSD\", days=365)\n",
    "score = results.get(\"score\")\n",
    "results"
   ]
  },
  {
   "cell_type": "code",
   "execution_count": 5,
   "id": "1b2e6fcf",
   "metadata": {},
   "outputs": [],
   "source": [
    "import json\n",
    "from decouple import config"
   ]
  },
  {
   "cell_type": "code",
   "execution_count": 6,
   "id": "1dafcfe6",
   "metadata": {},
   "outputs": [
    {
     "data": {
      "text/plain": [
       "'{\"days\": 365, \"score\": 2, \"ticker\": \"X:BTCUSD\", \"indicators\": {\"ma_5\": 115198.38, \"ma_20\": 116809.8025, \"ma_50\": 112911.1256, \"ma_100\": 108609.1794, \"ma_200\": 99546.7003, \"current_price\": 117515.49, \"conservative_target\": 144523.29874, \"aggressive_target\": 161208.75126000002, \"average_price\": 89498.13543715847, \"period_high\": 123231.07, \"period_low\": 52530.0, \"avg_volume_daily\": 12133.646692328766, \"latest_volume_daily\": 8927.4669, \"volume_change_percent_daily\": -26.42387629727017, \"rsi\": 57.8118, \"avg_gain\": 12.3408, \"avg_loss\": 9.0057, \"period\": 14}}'"
      ]
     },
     "execution_count": 6,
     "metadata": {},
     "output_type": "execute_result"
    }
   ],
   "source": [
    "results_as_json = json.dumps(results)\n",
    "results_as_json"
   ]
  },
  {
   "cell_type": "code",
   "execution_count": 7,
   "id": "3e4f3728",
   "metadata": {},
   "outputs": [],
   "source": [
    "OPENAI_API_KEY=config(\"OPENAI_API_KEY\", default=None)"
   ]
  },
  {
   "cell_type": "code",
   "execution_count": 8,
   "id": "4cc60160",
   "metadata": {},
   "outputs": [],
   "source": [
    "assert OPENAI_API_KEY is not None"
   ]
  },
  {
   "cell_type": "code",
   "execution_count": 9,
   "id": "7ec0f392",
   "metadata": {},
   "outputs": [],
   "source": [
    "\n",
    "from openai import OpenAI\n",
    "client = OpenAI(api_key=OPENAI_API_KEY)"
   ]
  },
  {
   "cell_type": "code",
   "execution_count": 10,
   "id": "1804320e",
   "metadata": {},
   "outputs": [],
   "source": [
    "response = client.chat.completions.create(\n",
    "    model=\"gpt-4o-mini\",\n",
    "    messages=[\n",
    "        {\"role\": \"system\", \"content\": \"You are an expert an analyzing stocks and respond in JSON data\"},\n",
    "        {\"role\": \"user\", \"content\": f\"Considering these results {results_as_json}, provide a recommendation\"}\n",
    "    ],\n",
    "    response_format={\n",
    "        \"type\": \"json_schema\",\n",
    "        \"json_schema\": {\n",
    "            \"name\": \"recommendation\",\n",
    "            \"schema\": {\n",
    "                \"type\": \"object\",\n",
    "                \"properties\": {\n",
    "                    \"buy\": {\n",
    "                        \"description\": \"Recommend to buy stock\",\n",
    "                        \"type\": \"boolean\"\n",
    "                    },\n",
    "                    \"sell\": {\n",
    "                        \"description\": \"Recommend to sell stock\",\n",
    "                        \"type\": \"boolean\"\n",
    "                    },\n",
    "                    \"hold\": {\n",
    "                        \"description\": \"Recommend to hold stock\",\n",
    "                        \"type\": \"boolean\"\n",
    "                    },\n",
    "                    \"explanation\": {\n",
    "                        \"description\": \"Explanation of reasoning in 1 or 2 sentences\",\n",
    "                        \"type\": \"string\"\n",
    "                    },\n",
    "                    \"additionalProperties\": False\n",
    "                }\n",
    "            }\n",
    "        }\n",
    "    }\n",
    ")"
   ]
  },
  {
   "cell_type": "code",
   "execution_count": 11,
   "id": "890893f5",
   "metadata": {},
   "outputs": [
    {
     "data": {
      "text/plain": [
       "{'buy': True,\n",
       " 'sell': False,\n",
       " 'hold': False,\n",
       " 'explanation': 'The current price of BTCUSD is above the moving averages, indicating bullish momentum, and with a conservative target significantly higher than the current price, it suggests strong potential for price appreciation.'}"
      ]
     },
     "execution_count": 11,
     "metadata": {},
     "output_type": "execute_result"
    }
   ],
   "source": [
    "result = json.loads(response.choices[0].message.content)\n",
    "result"
   ]
  }
 ],
 "metadata": {
  "kernelspec": {
   "display_name": "venv",
   "language": "python",
   "name": "python3"
  },
  "language_info": {
   "codemirror_mode": {
    "name": "ipython",
    "version": 3
   },
   "file_extension": ".py",
   "mimetype": "text/x-python",
   "name": "python",
   "nbconvert_exporter": "python",
   "pygments_lexer": "ipython3",
   "version": "3.12.5"
  }
 },
 "nbformat": 4,
 "nbformat_minor": 5
}
