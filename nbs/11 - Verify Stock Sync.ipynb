{
 "cells": [
  {
   "cell_type": "code",
   "execution_count": 1,
   "id": "be686f88-9ab0-4014-aef9-1d6cd02bb679",
   "metadata": {},
   "outputs": [],
   "source": [
    "from setup import init_django"
   ]
  },
  {
   "cell_type": "code",
   "execution_count": 2,
   "id": "d760402c",
   "metadata": {},
   "outputs": [],
   "source": [
    "init_django()"
   ]
  },
  {
   "cell_type": "code",
   "execution_count": 3,
   "id": "3156e855",
   "metadata": {},
   "outputs": [],
   "source": [
    "from market.models import *"
   ]
  },
  {
   "cell_type": "code",
   "execution_count": 4,
   "id": "9e260469",
   "metadata": {},
   "outputs": [],
   "source": [
    "obj1, created1 = Company.objects.get_or_create(name=\"Bitcoin - United States dollar\", ticker=\"X:BTCUSD\")\n",
    "obj1.save()\n",
    "obj2, created2 = Company.objects.get_or_create(name=\"Basic Attention Token - United States dollar\", ticker=\"X:BATUSD\")\n",
    "obj2.save()\n",
    "obj3, created3 = Company.objects.get_or_create(name=\"Bitcoin Cash - United States dollar\", ticker=\"X:BCHUSD\")\n",
    "obj3.save()"
   ]
  },
  {
   "cell_type": "code",
   "execution_count": 5,
   "id": "f74bc2df",
   "metadata": {},
   "outputs": [
    {
     "data": {
      "text/plain": [
       "3"
      ]
     },
     "execution_count": 5,
     "metadata": {},
     "output_type": "execute_result"
    }
   ],
   "source": [
    "qs = Company.objects.all()\n",
    "qs.count()"
   ]
  },
  {
   "cell_type": "code",
   "execution_count": 6,
   "id": "0b9492e0",
   "metadata": {},
   "outputs": [
    {
     "data": {
      "text/plain": [
       "0"
      ]
     },
     "execution_count": 6,
     "metadata": {},
     "output_type": "execute_result"
    }
   ],
   "source": [
    "stocks = StockQuote.objects.all()\n",
    "stocks.count()"
   ]
  },
  {
   "cell_type": "code",
   "execution_count": 7,
   "id": "86e88bb8",
   "metadata": {},
   "outputs": [],
   "source": [
    "start_from_scratch = False\n",
    "\n",
    "if start_from_scratch:\n",
    "    stocks.delete()\n",
    "\n"
   ]
  },
  {
   "cell_type": "code",
   "execution_count": 8,
   "id": "76cecc09",
   "metadata": {},
   "outputs": [
    {
     "data": {
      "text/plain": [
       "0"
      ]
     },
     "execution_count": 8,
     "metadata": {},
     "output_type": "execute_result"
    }
   ],
   "source": [
    "stocks = StockQuote.objects.all()\n",
    "stocks.count()"
   ]
  },
  {
   "cell_type": "code",
   "execution_count": 9,
   "id": "978fad99",
   "metadata": {},
   "outputs": [],
   "source": [
    "from market import tasks as market_tasks"
   ]
  },
  {
   "cell_type": "code",
   "execution_count": 11,
   "id": "207de6b9",
   "metadata": {},
   "outputs": [],
   "source": [
    "market_tasks.sync_stock_data()"
   ]
  },
  {
   "cell_type": "code",
   "execution_count": 12,
   "id": "e4ac382f",
   "metadata": {},
   "outputs": [
    {
     "data": {
      "text/plain": [
       "10574"
      ]
     },
     "execution_count": 12,
     "metadata": {},
     "output_type": "execute_result"
    }
   ],
   "source": [
    "stocks = StockQuote.objects.all()\n",
    "stocks.count()"
   ]
  }
 ],
 "metadata": {
  "kernelspec": {
   "display_name": "venv",
   "language": "python",
   "name": "python3"
  },
  "language_info": {
   "codemirror_mode": {
    "name": "ipython",
    "version": 3
   },
   "file_extension": ".py",
   "mimetype": "text/x-python",
   "name": "python",
   "nbconvert_exporter": "python",
   "pygments_lexer": "ipython3",
   "version": "3.12.5"
  }
 },
 "nbformat": 4,
 "nbformat_minor": 5
}
