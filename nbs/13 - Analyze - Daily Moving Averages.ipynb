{
 "cells": [
  {
   "cell_type": "code",
   "execution_count": 1,
   "id": "be686f88-9ab0-4014-aef9-1d6cd02bb679",
   "metadata": {},
   "outputs": [],
   "source": [
    "from setup import init_django"
   ]
  },
  {
   "cell_type": "code",
   "execution_count": 2,
   "id": "d760402c",
   "metadata": {},
   "outputs": [],
   "source": [
    "init_django()"
   ]
  },
  {
   "cell_type": "code",
   "execution_count": 3,
   "id": "a763541f",
   "metadata": {},
   "outputs": [],
   "source": [
    "from market.models import StockQuote"
   ]
  },
  {
   "cell_type": "code",
   "execution_count": 4,
   "id": "3156e855",
   "metadata": {},
   "outputs": [],
   "source": [
    "from django.db.models import Avg, F, RowRange, Window, Max\n",
    "from django.db.models.functions import TruncDate\n",
    "from django.utils import timezone\n",
    "from datetime import timedelta\n",
    "from decimal import Decimal"
   ]
  },
  {
   "cell_type": "code",
   "execution_count": 5,
   "id": "f74bc2df",
   "metadata": {},
   "outputs": [
    {
     "data": {
      "text/plain": [
       "357600"
      ]
     },
     "execution_count": 5,
     "metadata": {},
     "output_type": "execute_result"
    }
   ],
   "source": [
    "days_ago = 100\n",
    "now = timezone.now()\n",
    "start_date = now - timedelta(days=days_ago)\n",
    "end_date = now\n",
    "\n",
    "qs = StockQuote.objects.filter(time__range=(start_date, end_date))\n",
    "qs.count()"
   ]
  },
  {
   "cell_type": "code",
   "execution_count": 6,
   "id": "d9e1453a",
   "metadata": {},
   "outputs": [],
   "source": [
    "total = 0\n",
    "for obj in qs:\n",
    "    total += obj.close_price\n"
   ]
  },
  {
   "cell_type": "code",
   "execution_count": 7,
   "id": "e290223e",
   "metadata": {},
   "outputs": [
    {
     "data": {
      "text/plain": [
       "Decimal('15421378769.2939')"
      ]
     },
     "execution_count": 7,
     "metadata": {},
     "output_type": "execute_result"
    }
   ],
   "source": [
    "total"
   ]
  },
  {
   "cell_type": "code",
   "execution_count": 8,
   "id": "8fc5952b",
   "metadata": {},
   "outputs": [
    {
     "data": {
      "text/plain": [
       "Decimal('43124.66098795833333333333333')"
      ]
     },
     "execution_count": 8,
     "metadata": {},
     "output_type": "execute_result"
    }
   ],
   "source": [
    "total / qs.count()"
   ]
  },
  {
   "cell_type": "code",
   "execution_count": 9,
   "id": "07f9899a",
   "metadata": {},
   "outputs": [
    {
     "data": {
      "text/plain": [
       "<QuerySet [{'company': 1, 'avg_price': Decimal('108172.568602562567')}, {'company': 2, 'avg_price': Decimal('0.14481598640891440149')}, {'company': 3, 'avg_price': Decimal('460.8797860469108779')}, {'company': 4, 'avg_price': Decimal('0.25478290454098130184')}]>"
      ]
     },
     "execution_count": 9,
     "metadata": {},
     "output_type": "execute_result"
    }
   ],
   "source": [
    "qs.values('company').annotate(avg_price=Avg('close_price'))"
   ]
  },
  {
   "cell_type": "code",
   "execution_count": 10,
   "id": "6060cf38",
   "metadata": {},
   "outputs": [
    {
     "data": {
      "text/plain": [
       "[<StockQuote: StockQuote object (3407989)>,\n",
       " <StockQuote: StockQuote object (3407990)>,\n",
       " <StockQuote: StockQuote object (3407991)>,\n",
       " <StockQuote: StockQuote object (3407992)>,\n",
       " <StockQuote: StockQuote object (3407993)>]"
      ]
     },
     "execution_count": 10,
     "metadata": {},
     "output_type": "execute_result"
    }
   ],
   "source": [
    "count = 5\n",
    "ticker = \"X:BTCUSD\"\n",
    "rolling_qs = list(qs.filter(company__ticker = ticker).order_by('-time')[:count])\n",
    "rolling_qs.reverse()\n",
    "rolling_qs"
   ]
  },
  {
   "cell_type": "code",
   "execution_count": 11,
   "id": "f9b2a801",
   "metadata": {},
   "outputs": [
    {
     "name": "stdout",
     "output_type": "stream",
     "text": [
      "1 3407989 114116.9000 114116.9000\n",
      "2 3407990 114141.4000 114129.1500\n",
      "3 3407991 114134.3800 114130.8933333333333333333333\n",
      "4 3407992 114141.0200 114133.4250\n",
      "5 3407993 114180.0000 114142.7400\n"
     ]
    }
   ],
   "source": [
    "total = 0\n",
    "for i, obj in enumerate(rolling_qs):\n",
    "    total += obj.close_price\n",
    "    avg = Decimal(total / (i + 1))\n",
    "    print(i+1, obj.id, obj.close_price, avg)"
   ]
  },
  {
   "cell_type": "code",
   "execution_count": 12,
   "id": "de802445",
   "metadata": {},
   "outputs": [
    {
     "data": {
      "text/plain": [
       "[datetime.datetime(2025, 4, 29, 23, 59, tzinfo=datetime.timezone.utc),\n",
       " datetime.datetime(2025, 4, 30, 23, 59, tzinfo=datetime.timezone.utc),\n",
       " datetime.datetime(2025, 5, 1, 23, 59, tzinfo=datetime.timezone.utc),\n",
       " datetime.datetime(2025, 5, 2, 23, 59, tzinfo=datetime.timezone.utc),\n",
       " datetime.datetime(2025, 5, 3, 23, 59, tzinfo=datetime.timezone.utc),\n",
       " datetime.datetime(2025, 5, 4, 23, 59, tzinfo=datetime.timezone.utc),\n",
       " datetime.datetime(2025, 5, 5, 23, 59, tzinfo=datetime.timezone.utc),\n",
       " datetime.datetime(2025, 5, 6, 23, 59, tzinfo=datetime.timezone.utc),\n",
       " datetime.datetime(2025, 5, 7, 23, 59, tzinfo=datetime.timezone.utc),\n",
       " datetime.datetime(2025, 5, 8, 23, 59, tzinfo=datetime.timezone.utc),\n",
       " datetime.datetime(2025, 5, 9, 23, 59, tzinfo=datetime.timezone.utc),\n",
       " datetime.datetime(2025, 5, 10, 23, 59, tzinfo=datetime.timezone.utc),\n",
       " datetime.datetime(2025, 5, 11, 23, 59, tzinfo=datetime.timezone.utc),\n",
       " datetime.datetime(2025, 5, 12, 23, 59, tzinfo=datetime.timezone.utc),\n",
       " datetime.datetime(2025, 5, 13, 23, 59, tzinfo=datetime.timezone.utc),\n",
       " datetime.datetime(2025, 5, 14, 23, 59, tzinfo=datetime.timezone.utc),\n",
       " datetime.datetime(2025, 5, 15, 23, 59, tzinfo=datetime.timezone.utc),\n",
       " datetime.datetime(2025, 5, 16, 23, 59, tzinfo=datetime.timezone.utc),\n",
       " datetime.datetime(2025, 5, 17, 23, 59, tzinfo=datetime.timezone.utc),\n",
       " datetime.datetime(2025, 5, 18, 23, 59, tzinfo=datetime.timezone.utc),\n",
       " datetime.datetime(2025, 5, 19, 23, 59, tzinfo=datetime.timezone.utc),\n",
       " datetime.datetime(2025, 5, 20, 23, 59, tzinfo=datetime.timezone.utc),\n",
       " datetime.datetime(2025, 5, 21, 23, 59, tzinfo=datetime.timezone.utc),\n",
       " datetime.datetime(2025, 5, 22, 23, 59, tzinfo=datetime.timezone.utc),\n",
       " datetime.datetime(2025, 5, 23, 23, 59, tzinfo=datetime.timezone.utc),\n",
       " datetime.datetime(2025, 5, 24, 23, 59, tzinfo=datetime.timezone.utc),\n",
       " datetime.datetime(2025, 5, 25, 23, 59, tzinfo=datetime.timezone.utc),\n",
       " datetime.datetime(2025, 5, 26, 23, 59, tzinfo=datetime.timezone.utc),\n",
       " datetime.datetime(2025, 5, 27, 23, 59, tzinfo=datetime.timezone.utc),\n",
       " datetime.datetime(2025, 5, 28, 23, 59, tzinfo=datetime.timezone.utc),\n",
       " datetime.datetime(2025, 5, 29, 23, 59, tzinfo=datetime.timezone.utc),\n",
       " datetime.datetime(2025, 5, 30, 23, 59, tzinfo=datetime.timezone.utc),\n",
       " datetime.datetime(2025, 5, 31, 23, 59, tzinfo=datetime.timezone.utc),\n",
       " datetime.datetime(2025, 6, 1, 23, 59, tzinfo=datetime.timezone.utc),\n",
       " datetime.datetime(2025, 6, 2, 23, 59, tzinfo=datetime.timezone.utc),\n",
       " datetime.datetime(2025, 6, 3, 23, 59, tzinfo=datetime.timezone.utc),\n",
       " datetime.datetime(2025, 6, 4, 23, 59, tzinfo=datetime.timezone.utc),\n",
       " datetime.datetime(2025, 6, 5, 23, 59, tzinfo=datetime.timezone.utc),\n",
       " datetime.datetime(2025, 6, 6, 23, 59, tzinfo=datetime.timezone.utc),\n",
       " datetime.datetime(2025, 6, 7, 23, 59, tzinfo=datetime.timezone.utc),\n",
       " datetime.datetime(2025, 6, 8, 23, 59, tzinfo=datetime.timezone.utc),\n",
       " datetime.datetime(2025, 6, 9, 23, 59, tzinfo=datetime.timezone.utc),\n",
       " datetime.datetime(2025, 6, 10, 23, 59, tzinfo=datetime.timezone.utc),\n",
       " datetime.datetime(2025, 6, 11, 23, 59, tzinfo=datetime.timezone.utc),\n",
       " datetime.datetime(2025, 6, 12, 23, 59, tzinfo=datetime.timezone.utc),\n",
       " datetime.datetime(2025, 6, 13, 23, 59, tzinfo=datetime.timezone.utc),\n",
       " datetime.datetime(2025, 6, 14, 23, 59, tzinfo=datetime.timezone.utc),\n",
       " datetime.datetime(2025, 6, 15, 23, 59, tzinfo=datetime.timezone.utc),\n",
       " datetime.datetime(2025, 6, 16, 23, 59, tzinfo=datetime.timezone.utc),\n",
       " datetime.datetime(2025, 6, 17, 23, 59, tzinfo=datetime.timezone.utc),\n",
       " datetime.datetime(2025, 6, 18, 23, 59, tzinfo=datetime.timezone.utc),\n",
       " datetime.datetime(2025, 6, 19, 23, 59, tzinfo=datetime.timezone.utc),\n",
       " datetime.datetime(2025, 6, 20, 23, 59, tzinfo=datetime.timezone.utc),\n",
       " datetime.datetime(2025, 6, 21, 23, 59, tzinfo=datetime.timezone.utc),\n",
       " datetime.datetime(2025, 6, 22, 23, 59, tzinfo=datetime.timezone.utc),\n",
       " datetime.datetime(2025, 6, 23, 23, 59, tzinfo=datetime.timezone.utc),\n",
       " datetime.datetime(2025, 6, 24, 23, 59, tzinfo=datetime.timezone.utc),\n",
       " datetime.datetime(2025, 6, 25, 23, 59, tzinfo=datetime.timezone.utc),\n",
       " datetime.datetime(2025, 6, 26, 23, 59, tzinfo=datetime.timezone.utc),\n",
       " datetime.datetime(2025, 6, 27, 23, 59, tzinfo=datetime.timezone.utc),\n",
       " datetime.datetime(2025, 6, 28, 23, 59, tzinfo=datetime.timezone.utc),\n",
       " datetime.datetime(2025, 6, 29, 23, 59, tzinfo=datetime.timezone.utc),\n",
       " datetime.datetime(2025, 6, 30, 23, 59, tzinfo=datetime.timezone.utc),\n",
       " datetime.datetime(2025, 7, 1, 23, 59, tzinfo=datetime.timezone.utc),\n",
       " datetime.datetime(2025, 7, 2, 23, 59, tzinfo=datetime.timezone.utc),\n",
       " datetime.datetime(2025, 7, 3, 23, 59, tzinfo=datetime.timezone.utc),\n",
       " datetime.datetime(2025, 7, 4, 23, 59, tzinfo=datetime.timezone.utc),\n",
       " datetime.datetime(2025, 7, 5, 23, 59, tzinfo=datetime.timezone.utc),\n",
       " datetime.datetime(2025, 7, 6, 23, 59, tzinfo=datetime.timezone.utc),\n",
       " datetime.datetime(2025, 7, 7, 23, 59, tzinfo=datetime.timezone.utc),\n",
       " datetime.datetime(2025, 7, 8, 23, 59, tzinfo=datetime.timezone.utc),\n",
       " datetime.datetime(2025, 7, 9, 23, 59, tzinfo=datetime.timezone.utc),\n",
       " datetime.datetime(2025, 7, 10, 23, 59, tzinfo=datetime.timezone.utc),\n",
       " datetime.datetime(2025, 7, 11, 23, 59, tzinfo=datetime.timezone.utc),\n",
       " datetime.datetime(2025, 7, 12, 23, 59, tzinfo=datetime.timezone.utc),\n",
       " datetime.datetime(2025, 7, 13, 23, 59, tzinfo=datetime.timezone.utc),\n",
       " datetime.datetime(2025, 7, 14, 23, 59, tzinfo=datetime.timezone.utc),\n",
       " datetime.datetime(2025, 7, 15, 23, 59, tzinfo=datetime.timezone.utc),\n",
       " datetime.datetime(2025, 7, 16, 23, 59, tzinfo=datetime.timezone.utc),\n",
       " datetime.datetime(2025, 7, 17, 23, 59, tzinfo=datetime.timezone.utc),\n",
       " datetime.datetime(2025, 7, 18, 23, 58, tzinfo=datetime.timezone.utc),\n",
       " datetime.datetime(2025, 7, 19, 23, 59, tzinfo=datetime.timezone.utc),\n",
       " datetime.datetime(2025, 7, 20, 23, 59, tzinfo=datetime.timezone.utc),\n",
       " datetime.datetime(2025, 7, 21, 23, 59, tzinfo=datetime.timezone.utc),\n",
       " datetime.datetime(2025, 7, 22, 23, 59, tzinfo=datetime.timezone.utc),\n",
       " datetime.datetime(2025, 7, 23, 23, 59, tzinfo=datetime.timezone.utc),\n",
       " datetime.datetime(2025, 7, 24, 23, 59, tzinfo=datetime.timezone.utc),\n",
       " datetime.datetime(2025, 7, 25, 23, 59, tzinfo=datetime.timezone.utc),\n",
       " datetime.datetime(2025, 7, 26, 23, 59, tzinfo=datetime.timezone.utc),\n",
       " datetime.datetime(2025, 7, 27, 23, 59, tzinfo=datetime.timezone.utc),\n",
       " datetime.datetime(2025, 7, 28, 23, 59, tzinfo=datetime.timezone.utc),\n",
       " datetime.datetime(2025, 7, 29, 23, 59, tzinfo=datetime.timezone.utc),\n",
       " datetime.datetime(2025, 7, 30, 23, 59, tzinfo=datetime.timezone.utc),\n",
       " datetime.datetime(2025, 7, 31, 23, 59, tzinfo=datetime.timezone.utc),\n",
       " datetime.datetime(2025, 8, 1, 23, 59, tzinfo=datetime.timezone.utc),\n",
       " datetime.datetime(2025, 8, 2, 23, 59, tzinfo=datetime.timezone.utc),\n",
       " datetime.datetime(2025, 8, 3, 23, 59, tzinfo=datetime.timezone.utc),\n",
       " datetime.datetime(2025, 8, 4, 23, 59, tzinfo=datetime.timezone.utc),\n",
       " datetime.datetime(2025, 8, 5, 23, 59, tzinfo=datetime.timezone.utc)]"
      ]
     },
     "execution_count": 12,
     "metadata": {},
     "output_type": "execute_result"
    }
   ],
   "source": [
    "latest_daily_timestamps = (\n",
    "    StockQuote.objects.filter(company__ticker = ticker, time__range=(start_date, end_date))\n",
    "    .annotate(date=TruncDate('time'))\n",
    "    .values('company', 'date')\n",
    "    .annotate(latest_time=Max('time'))\n",
    "    .values('company', 'date', 'latest_time')\n",
    "    .order_by('date')\n",
    ")\n",
    "actual_timestamps = [x['latest_time'] for x in latest_daily_timestamps]\n",
    "actual_timestamps"
   ]
  },
  {
   "cell_type": "code",
   "execution_count": 13,
   "id": "b6ca25e6",
   "metadata": {},
   "outputs": [],
   "source": [
    "qs = StockQuote.objects.filter(\n",
    "    company__ticker=ticker, \n",
    "    time__range=(start_date, end_date),\n",
    "    time__in=actual_timestamps\n",
    "    )"
   ]
  },
  {
   "cell_type": "code",
   "execution_count": 14,
   "id": "8c1c68ba",
   "metadata": {},
   "outputs": [],
   "source": [
    "frame_start = -(count - 1)\n",
    "ma_val = qs.annotate(\n",
    "    ma=Window(\n",
    "        expression=Avg('close_price'),\n",
    "        order_by=F('time').asc(),\n",
    "        partition_by=[],\n",
    "        frame=RowRange(start=frame_start, end=0),\n",
    "    )\n",
    ").order_by('-time')"
   ]
  },
  {
   "cell_type": "code",
   "execution_count": 15,
   "id": "f5ef0fca",
   "metadata": {},
   "outputs": [
    {
     "name": "stdout",
     "output_type": "stream",
     "text": [
      "0 3407993 114180.0000 113844.302000000000 2025-08-05 23:59:00+00:00\n",
      "1 3406553 115051.8500 114160.528000000000 2025-08-04 23:59:00+00:00\n",
      "2 3405113 114215.7300 114716.188000000000 2025-08-03 23:59:00+00:00\n",
      "3 3403673 112525.2000 115459.720000000000 2025-08-02 23:59:00+00:00\n",
      "4 3402233 113248.7300 116550.620000000000 2025-08-01 23:59:00+00:00\n",
      "5 3400793 115761.1300 117793.978000000000 2025-07-31 23:59:00+00:00\n",
      "6 3399353 117830.1500 118229.252000000000 2025-07-30 23:59:00+00:00\n",
      "7 3397913 117933.3900 118189.876000000000 2025-07-29 23:59:00+00:00\n",
      "8 3396473 117979.7000 118282.606000000000 2025-07-28 23:59:00+00:00\n",
      "9 3395033 119465.5200 118448.754000000000 2025-07-27 23:59:00+00:00\n"
     ]
    }
   ],
   "source": [
    "for i, obj in enumerate(ma_val[:10]):\n",
    "    print(i, obj.id, obj.close_price, obj.ma, obj.time)\n"
   ]
  },
  {
   "cell_type": "code",
   "execution_count": 16,
   "id": "f848140e",
   "metadata": {},
   "outputs": [],
   "source": [
    "ma_vals = qs.annotate(\n",
    "    ma_5=Window(\n",
    "        expression=Avg('close_price'),\n",
    "        order_by=F('time').asc(),\n",
    "        partition_by=[],\n",
    "        frame=RowRange(start=-(5-1), end=0),\n",
    "    ),\n",
    "    ma_20=Window(\n",
    "        expression=Avg('close_price'),\n",
    "        order_by=F('time').asc(),\n",
    "        partition_by=[],\n",
    "        frame=RowRange(start=-(20-1), end=0),\n",
    "    )\n",
    ").order_by('-time').first()"
   ]
  },
  {
   "cell_type": "code",
   "execution_count": 17,
   "id": "5786bab8",
   "metadata": {},
   "outputs": [
    {
     "name": "stdout",
     "output_type": "stream",
     "text": [
      "3407993 114180.0000 113844.302000000000 117046.271000000000\n"
     ]
    }
   ],
   "source": [
    "print(ma_vals.id, ma_vals.close_price, ma_vals.ma_5, ma_vals.ma_20)"
   ]
  }
 ],
 "metadata": {
  "kernelspec": {
   "display_name": "venv",
   "language": "python",
   "name": "python3"
  },
  "language_info": {
   "codemirror_mode": {
    "name": "ipython",
    "version": 3
   },
   "file_extension": ".py",
   "mimetype": "text/x-python",
   "name": "python",
   "nbconvert_exporter": "python",
   "pygments_lexer": "ipython3",
   "version": "3.12.5"
  }
 },
 "nbformat": 4,
 "nbformat_minor": 5
}
