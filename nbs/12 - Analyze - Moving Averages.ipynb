{
 "cells": [
  {
   "cell_type": "code",
   "execution_count": 1,
   "id": "be686f88-9ab0-4014-aef9-1d6cd02bb679",
   "metadata": {},
   "outputs": [],
   "source": [
    "from setup import init_django"
   ]
  },
  {
   "cell_type": "code",
   "execution_count": 2,
   "id": "d760402c",
   "metadata": {},
   "outputs": [],
   "source": [
    "init_django()"
   ]
  },
  {
   "cell_type": "code",
   "execution_count": 3,
   "id": "a763541f",
   "metadata": {},
   "outputs": [],
   "source": [
    "from market.models import StockQuote"
   ]
  },
  {
   "cell_type": "code",
   "execution_count": 4,
   "id": "3156e855",
   "metadata": {},
   "outputs": [],
   "source": [
    "from django.db.models import Avg, F, RowRange, Window\n",
    "from django.utils import timezone\n",
    "from datetime import timedelta\n",
    "from decimal import Decimal"
   ]
  },
  {
   "cell_type": "code",
   "execution_count": 5,
   "id": "f74bc2df",
   "metadata": {},
   "outputs": [
    {
     "data": {
      "text/plain": [
       "113504"
      ]
     },
     "execution_count": 5,
     "metadata": {},
     "output_type": "execute_result"
    }
   ],
   "source": [
    "days_ago = 30\n",
    "now = timezone.now()\n",
    "start_date = now - timedelta(days=days_ago)\n",
    "end_date = now\n",
    "\n",
    "qs = StockQuote.objects.filter(time__range=(start_date, end_date))\n",
    "qs.count()"
   ]
  },
  {
   "cell_type": "code",
   "execution_count": 6,
   "id": "d9e1453a",
   "metadata": {},
   "outputs": [],
   "source": [
    "total = 0\n",
    "for obj in qs:\n",
    "    total += obj.close_price\n"
   ]
  },
  {
   "cell_type": "code",
   "execution_count": 7,
   "id": "e290223e",
   "metadata": {},
   "outputs": [
    {
     "data": {
      "text/plain": [
       "Decimal('4925579524.1519')"
      ]
     },
     "execution_count": 7,
     "metadata": {},
     "output_type": "execute_result"
    }
   ],
   "source": [
    "total"
   ]
  },
  {
   "cell_type": "code",
   "execution_count": 8,
   "id": "8fc5952b",
   "metadata": {},
   "outputs": [
    {
     "data": {
      "text/plain": [
       "Decimal('43395.64706223481110797857344')"
      ]
     },
     "execution_count": 8,
     "metadata": {},
     "output_type": "execute_result"
    }
   ],
   "source": [
    "total / qs.count()"
   ]
  },
  {
   "cell_type": "code",
   "execution_count": 9,
   "id": "07f9899a",
   "metadata": {},
   "outputs": [
    {
     "data": {
      "text/plain": [
       "<QuerySet [{'company': 1, 'avg_price': Decimal('116569.946414834185')}, {'company': 2, 'avg_price': Decimal('0.15588381499242806663')}, {'company': 3, 'avg_price': Decimal('532.1598878166465621')}, {'company': 4, 'avg_price': Decimal('0.29915955024397143059')}]>"
      ]
     },
     "execution_count": 9,
     "metadata": {},
     "output_type": "execute_result"
    }
   ],
   "source": [
    "qs.values('company').annotate(avg_price=Avg('close_price'))"
   ]
  },
  {
   "cell_type": "code",
   "execution_count": 15,
   "id": "6060cf38",
   "metadata": {},
   "outputs": [
    {
     "data": {
      "text/plain": [
       "[<StockQuote: StockQuote object (3407989)>,\n",
       " <StockQuote: StockQuote object (3407990)>,\n",
       " <StockQuote: StockQuote object (3407991)>,\n",
       " <StockQuote: StockQuote object (3407992)>,\n",
       " <StockQuote: StockQuote object (3407993)>]"
      ]
     },
     "execution_count": 15,
     "metadata": {},
     "output_type": "execute_result"
    }
   ],
   "source": [
    "count = 5\n",
    "ticker = \"X:BTCUSD\"\n",
    "rolling_qs = list(qs.filter(company__ticker = ticker).order_by('-time')[:count])\n",
    "rolling_qs.reverse()\n",
    "rolling_qs"
   ]
  },
  {
   "cell_type": "code",
   "execution_count": 21,
   "id": "f9b2a801",
   "metadata": {},
   "outputs": [
    {
     "name": "stdout",
     "output_type": "stream",
     "text": [
      "1 3407989 114116.9000 114116.9000\n",
      "2 3407990 114141.4000 114129.1500\n",
      "3 3407991 114134.3800 114130.8933333333333333333333\n",
      "4 3407992 114141.0200 114133.4250\n",
      "5 3407993 114180.0000 114142.7400\n"
     ]
    }
   ],
   "source": [
    "total = 0\n",
    "for i, obj in enumerate(rolling_qs):\n",
    "    total += obj.close_price\n",
    "    avg = Decimal(total / (i + 1))\n",
    "    print(i+1, obj.id, obj.close_price, avg)"
   ]
  },
  {
   "cell_type": "code",
   "execution_count": 22,
   "id": "b6ca25e6",
   "metadata": {},
   "outputs": [],
   "source": [
    "qs = StockQuote.objects.filter(company__ticker = ticker, time__range=(start_date, end_date))"
   ]
  },
  {
   "cell_type": "code",
   "execution_count": 28,
   "id": "8c1c68ba",
   "metadata": {},
   "outputs": [],
   "source": [
    "frame_start = -(count - 1)\n",
    "ma_val = qs.annotate(\n",
    "    ma=Window(\n",
    "        expression=Avg('close_price'),\n",
    "        order_by=F('time').asc(),\n",
    "        partition_by=[],\n",
    "        frame=RowRange(start=frame_start, end=0),\n",
    "    )\n",
    ").order_by('-time')"
   ]
  },
  {
   "cell_type": "code",
   "execution_count": 31,
   "id": "f5ef0fca",
   "metadata": {},
   "outputs": [
    {
     "name": "stdout",
     "output_type": "stream",
     "text": [
      "0 3407993 114180.0000 114142.740000000000 2025-08-05 23:59:00+00:00\n",
      "1 3407992 114141.0200 114135.524000000000 2025-08-05 23:58:00+00:00\n",
      "2 3407991 114134.3800 114143.044000000000 2025-08-05 23:57:00+00:00\n",
      "3 3407990 114141.4000 114149.882000000000 2025-08-05 23:56:00+00:00\n",
      "4 3407989 114116.9000 114146.602000000000 2025-08-05 23:55:00+00:00\n",
      "5 3407988 114143.9200 114152.342000000000 2025-08-05 23:54:00+00:00\n",
      "6 3407987 114178.6200 114163.558000000000 2025-08-05 23:53:00+00:00\n",
      "7 3407986 114168.5700 114153.184000000000 2025-08-05 23:52:00+00:00\n",
      "8 3407985 114125.0000 114153.336000000000 2025-08-05 23:51:00+00:00\n",
      "9 3407984 114145.6000 114160.072000000000 2025-08-05 23:50:00+00:00\n"
     ]
    }
   ],
   "source": [
    "for i, obj in enumerate(ma_val[:10]):\n",
    "    print(i, obj.id, obj.close_price, obj.ma, obj.time)\n"
   ]
  },
  {
   "cell_type": "code",
   "execution_count": 32,
   "id": "f848140e",
   "metadata": {},
   "outputs": [],
   "source": [
    "ma_vals = qs.annotate(\n",
    "    ma_5=Window(\n",
    "        expression=Avg('close_price'),\n",
    "        order_by=F('time').asc(),\n",
    "        partition_by=[],\n",
    "        frame=RowRange(start=-(5-1), end=0),\n",
    "    ),\n",
    "    ma_20=Window(\n",
    "        expression=Avg('close_price'),\n",
    "        order_by=F('time').asc(),\n",
    "        partition_by=[],\n",
    "        frame=RowRange(start=-(20-1), end=0),\n",
    "    )\n",
    ").order_by('-time').first()"
   ]
  },
  {
   "cell_type": "code",
   "execution_count": 33,
   "id": "5786bab8",
   "metadata": {},
   "outputs": [
    {
     "name": "stdout",
     "output_type": "stream",
     "text": [
      "3407993 114180.0000 114142.740000000000 114161.387000000000\n"
     ]
    }
   ],
   "source": [
    "print(ma_vals.id, ma_vals.close_price, ma_vals.ma_5, ma_vals.ma_20)"
   ]
  },
  {
   "cell_type": "code",
   "execution_count": null,
   "id": "6f598e1c",
   "metadata": {},
   "outputs": [],
   "source": []
  }
 ],
 "metadata": {
  "kernelspec": {
   "display_name": "venv",
   "language": "python",
   "name": "python3"
  },
  "language_info": {
   "codemirror_mode": {
    "name": "ipython",
    "version": 3
   },
   "file_extension": ".py",
   "mimetype": "text/x-python",
   "name": "python",
   "nbconvert_exporter": "python",
   "pygments_lexer": "ipython3",
   "version": "3.12.5"
  }
 },
 "nbformat": 4,
 "nbformat_minor": 5
}
