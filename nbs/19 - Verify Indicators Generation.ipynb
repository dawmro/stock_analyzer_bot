{
 "cells": [
  {
   "cell_type": "code",
   "execution_count": 1,
   "id": "be686f88-9ab0-4014-aef9-1d6cd02bb679",
   "metadata": {},
   "outputs": [],
   "source": [
    "from setup import init_django"
   ]
  },
  {
   "cell_type": "code",
   "execution_count": 2,
   "id": "d760402c",
   "metadata": {},
   "outputs": [],
   "source": [
    "init_django()"
   ]
  },
  {
   "cell_type": "code",
   "execution_count": 3,
   "id": "3156e855",
   "metadata": {},
   "outputs": [],
   "source": [
    "from market.models import *"
   ]
  },
  {
   "cell_type": "code",
   "execution_count": 4,
   "id": "9e260469",
   "metadata": {},
   "outputs": [],
   "source": [
    "obj1, created1 = Company.objects.get_or_create(name=\"Bitcoin - United States dollar\", ticker=\"X:BTCUSD\")\n",
    "obj1.save()\n",
    "obj2, created2 = Company.objects.get_or_create(name=\"Basic Attention Token - United States dollar\", ticker=\"X:BATUSD\")\n",
    "obj2.save()\n",
    "obj3, created3 = Company.objects.get_or_create(name=\"Bitcoin Cash - United States dollar\", ticker=\"X:BCHUSD\")\n",
    "obj3.save()\n",
    "obj4, created4 = Company.objects.get_or_create(name=\"1inch - United States dollar\", ticker=\"X:1INCHUSD\")\n",
    "obj4.save()"
   ]
  },
  {
   "cell_type": "code",
   "execution_count": 5,
   "id": "f74bc2df",
   "metadata": {},
   "outputs": [
    {
     "data": {
      "text/plain": [
       "4"
      ]
     },
     "execution_count": 5,
     "metadata": {},
     "output_type": "execute_result"
    }
   ],
   "source": [
    "qs = Company.objects.all()\n",
    "qs.count()"
   ]
  },
  {
   "cell_type": "code",
   "execution_count": 7,
   "id": "0b9492e0",
   "metadata": {},
   "outputs": [
    {
     "data": {
      "text/plain": [
       "1040"
      ]
     },
     "execution_count": 7,
     "metadata": {},
     "output_type": "execute_result"
    }
   ],
   "source": [
    "indicators = StockIndicator.objects.all()\n",
    "indicators.count()"
   ]
  },
  {
   "cell_type": "code",
   "execution_count": 8,
   "id": "86e88bb8",
   "metadata": {},
   "outputs": [],
   "source": [
    "start_from_scratch = True\n",
    "\n",
    "if start_from_scratch:\n",
    "    indicators.delete()\n",
    "\n"
   ]
  },
  {
   "cell_type": "code",
   "execution_count": 9,
   "id": "76cecc09",
   "metadata": {},
   "outputs": [
    {
     "data": {
      "text/plain": [
       "0"
      ]
     },
     "execution_count": 9,
     "metadata": {},
     "output_type": "execute_result"
    }
   ],
   "source": [
    "indicators = StockIndicator.objects.all()\n",
    "indicators.count()"
   ]
  },
  {
   "cell_type": "code",
   "execution_count": 10,
   "id": "978fad99",
   "metadata": {},
   "outputs": [],
   "source": [
    "from market import tasks as market_tasks"
   ]
  },
  {
   "cell_type": "code",
   "execution_count": 11,
   "id": "207de6b9",
   "metadata": {},
   "outputs": [
    {
     "name": "stdout",
     "output_type": "stream",
     "text": [
      "Starting historical indicators generation...\n",
      "Processing 4 active companies\n",
      "Processing 701 days from 2023-09-09 09:04:01.777246+00:00 to 2025-08-09 09:04:01.777246+00:00\n",
      "Processing company: X:BTCUSD\n",
      "Processed 100 days for X:BTCUSD so far...\n",
      "Processed 200 days for X:BTCUSD so far...\n",
      "Processed 300 days for X:BTCUSD so far...\n",
      "Processed 400 days for X:BTCUSD so far...\n",
      "Processed 500 days for X:BTCUSD so far...\n",
      "Processed 600 days for X:BTCUSD so far...\n",
      "Processed 700 days for X:BTCUSD so far...\n",
      "Processing indicator batch: 0 to 100 for Company object (1)\n",
      "Inserted 100 indicators, skipped 0 records in batch 0-100\n",
      "Processing indicator batch: 100 to 200 for Company object (1)\n",
      "Inserted 100 indicators, skipped 0 records in batch 100-200\n",
      "Processing indicator batch: 200 to 300 for Company object (1)\n",
      "Inserted 100 indicators, skipped 0 records in batch 200-300\n",
      "Processing indicator batch: 300 to 400 for Company object (1)\n",
      "Inserted 100 indicators, skipped 0 records in batch 300-400\n",
      "Processing indicator batch: 400 to 500 for Company object (1)\n",
      "Inserted 100 indicators, skipped 0 records in batch 400-500\n",
      "Processing indicator batch: 500 to 600 for Company object (1)\n",
      "Inserted 100 indicators, skipped 0 records in batch 500-600\n",
      "Processing indicator batch: 600 to 700 for Company object (1)\n",
      "Inserted 100 indicators, skipped 0 records in batch 600-700\n",
      "Processing indicator batch: 700 to 701 for Company object (1)\n",
      "Inserted 1 indicators, skipped 0 records in batch 700-701\n",
      "Processed 701 out of 701 indicator records for Company object (1)\n",
      "Inserted 701 indicators for X:BTCUSD\n",
      "Skipped 0 days for X:BTCUSD (already exists)\n",
      "Processing company: X:BATUSD\n"
     ]
    },
    {
     "ename": "KeyboardInterrupt",
     "evalue": "",
     "output_type": "error",
     "traceback": [
      "\u001b[31m---------------------------------------------------------------------------\u001b[39m",
      "\u001b[31mKeyboardInterrupt\u001b[39m                         Traceback (most recent call last)",
      "\u001b[36mCell\u001b[39m\u001b[36m \u001b[39m\u001b[32mIn[11]\u001b[39m\u001b[32m, line 1\u001b[39m\n\u001b[32m----> \u001b[39m\u001b[32m1\u001b[39m \u001b[43mmarket_tasks\u001b[49m\u001b[43m.\u001b[49m\u001b[43mgenerate_historical_indicators\u001b[49m\u001b[43m(\u001b[49m\u001b[43m)\u001b[49m\n",
      "\u001b[36mFile \u001b[39m\u001b[32mf:\\OneDrive\\github\\stock_analyzer_bot\\venv\\Lib\\site-packages\\celery\\local.py:182\u001b[39m, in \u001b[36mProxy.__call__\u001b[39m\u001b[34m(self, *a, **kw)\u001b[39m\n\u001b[32m    181\u001b[39m \u001b[38;5;28;01mdef\u001b[39;00m\u001b[38;5;250m \u001b[39m\u001b[34m__call__\u001b[39m(\u001b[38;5;28mself\u001b[39m, *a, **kw):\n\u001b[32m--> \u001b[39m\u001b[32m182\u001b[39m     \u001b[38;5;28;01mreturn\u001b[39;00m \u001b[38;5;28;43mself\u001b[39;49m\u001b[43m.\u001b[49m\u001b[43m_get_current_object\u001b[49m\u001b[43m(\u001b[49m\u001b[43m)\u001b[49m\u001b[43m(\u001b[49m\u001b[43m*\u001b[49m\u001b[43ma\u001b[49m\u001b[43m,\u001b[49m\u001b[43m \u001b[49m\u001b[43m*\u001b[49m\u001b[43m*\u001b[49m\u001b[43mkw\u001b[49m\u001b[43m)\u001b[49m\n",
      "\u001b[36mFile \u001b[39m\u001b[32mf:\\OneDrive\\github\\stock_analyzer_bot\\venv\\Lib\\site-packages\\celery\\app\\task.py:411\u001b[39m, in \u001b[36mTask.__call__\u001b[39m\u001b[34m(self, *args, **kwargs)\u001b[39m\n\u001b[32m    409\u001b[39m \u001b[38;5;28mself\u001b[39m.push_request(args=args, kwargs=kwargs)\n\u001b[32m    410\u001b[39m \u001b[38;5;28;01mtry\u001b[39;00m:\n\u001b[32m--> \u001b[39m\u001b[32m411\u001b[39m     \u001b[38;5;28;01mreturn\u001b[39;00m \u001b[38;5;28;43mself\u001b[39;49m\u001b[43m.\u001b[49m\u001b[43mrun\u001b[49m\u001b[43m(\u001b[49m\u001b[43m*\u001b[49m\u001b[43margs\u001b[49m\u001b[43m,\u001b[49m\u001b[43m \u001b[49m\u001b[43m*\u001b[49m\u001b[43m*\u001b[49m\u001b[43mkwargs\u001b[49m\u001b[43m)\u001b[49m\n\u001b[32m    412\u001b[39m \u001b[38;5;28;01mfinally\u001b[39;00m:\n\u001b[32m    413\u001b[39m     \u001b[38;5;28mself\u001b[39m.pop_request()\n",
      "\u001b[36mFile \u001b[39m\u001b[32mF:\\OneDrive\\github\\stock_analyzer_bot\\src\\market\\tasks.py:242\u001b[39m, in \u001b[36mgenerate_historical_indicators\u001b[39m\u001b[34m(verbose)\u001b[39m\n\u001b[32m    238\u001b[39m     \u001b[38;5;28;01mcontinue\u001b[39;00m\n\u001b[32m    240\u001b[39m \u001b[38;5;28;01mtry\u001b[39;00m:\n\u001b[32m    241\u001b[39m     \u001b[38;5;66;03m# Get indicators as of this date\u001b[39;00m\n\u001b[32m--> \u001b[39m\u001b[32m242\u001b[39m     result = \u001b[43mget_stock_indicators\u001b[49m\u001b[43m(\u001b[49m\n\u001b[32m    243\u001b[39m \u001b[43m        \u001b[49m\u001b[43mticker\u001b[49m\u001b[43m=\u001b[49m\u001b[43mcompany\u001b[49m\u001b[43m.\u001b[49m\u001b[43mticker\u001b[49m\u001b[43m,\u001b[49m\n\u001b[32m    244\u001b[39m \u001b[43m        \u001b[49m\u001b[43mdays\u001b[49m\u001b[43m=\u001b[49m\u001b[32;43m30\u001b[39;49m\u001b[43m  \u001b[49m\u001b[38;5;66;43;03m# Use default lookback period\u001b[39;49;00m\n\u001b[32m    245\u001b[39m \u001b[43m    \u001b[49m\u001b[43m)\u001b[49m\n\u001b[32m    247\u001b[39m     \u001b[38;5;66;03m# Prepare data for batch insertion\u001b[39;00m\n\u001b[32m    248\u001b[39m     indicators_to_insert.append({\n\u001b[32m    249\u001b[39m         \u001b[33m'\u001b[39m\u001b[33mtime\u001b[39m\u001b[33m'\u001b[39m: eval_time,\n\u001b[32m    250\u001b[39m         \u001b[33m'\u001b[39m\u001b[33mscore\u001b[39m\u001b[33m'\u001b[39m: result[\u001b[33m'\u001b[39m\u001b[33mscore\u001b[39m\u001b[33m'\u001b[39m],\n\u001b[32m    251\u001b[39m         \u001b[33m'\u001b[39m\u001b[33mindicators\u001b[39m\u001b[33m'\u001b[39m: result[\u001b[33m'\u001b[39m\u001b[33mindicators\u001b[39m\u001b[33m'\u001b[39m]\n\u001b[32m    252\u001b[39m     })\n",
      "\u001b[36mFile \u001b[39m\u001b[32mF:\\OneDrive\\github\\stock_analyzer_bot\\src\\market\\services.py:418\u001b[39m, in \u001b[36mget_stock_indicators\u001b[39m\u001b[34m(ticker, days)\u001b[39m\n\u001b[32m    416\u001b[39m price_target = get_price_target(ticker, days=days, queryset=queryset)\n\u001b[32m    417\u001b[39m volume_trend_daily = get_volume_trend_daily(ticker, days=days, queryset=queryset)\n\u001b[32m--> \u001b[39m\u001b[32m418\u001b[39m rsi_data = \u001b[43mcalculate_rsi\u001b[49m\u001b[43m(\u001b[49m\u001b[43mticker\u001b[49m\u001b[43m)\u001b[49m\n\u001b[32m    419\u001b[39m signals = []\n\u001b[32m    421\u001b[39m \u001b[38;5;66;03m# Moving average crossover signal\u001b[39;00m\n",
      "\u001b[36mFile \u001b[39m\u001b[32mF:\\OneDrive\\github\\stock_analyzer_bot\\src\\market\\services.py:353\u001b[39m, in \u001b[36mcalculate_rsi\u001b[39m\u001b[34m(ticker, period)\u001b[39m\n\u001b[32m    346\u001b[39m     \u001b[38;5;28;01mreturn\u001b[39;00m {\n\u001b[32m    347\u001b[39m         \u001b[33m'\u001b[39m\u001b[33merror\u001b[39m\u001b[33m'\u001b[39m: \u001b[33mf\u001b[39m\u001b[33m'\u001b[39m\u001b[33mInsufficient data: need at least \u001b[39m\u001b[38;5;132;01m{\u001b[39;00mperiod\u001b[38;5;132;01m}\u001b[39;00m\u001b[33m days of valid data\u001b[39m\u001b[33m'\u001b[39m,\n\u001b[32m    348\u001b[39m         \u001b[33m'\u001b[39m\u001b[33mdays_available\u001b[39m\u001b[33m'\u001b[39m: valid_movement.count(),\n\u001b[32m    349\u001b[39m         \u001b[33m'\u001b[39m\u001b[33mperiod\u001b[39m\u001b[33m'\u001b[39m: period\n\u001b[32m    350\u001b[39m     }\n\u001b[32m    352\u001b[39m \u001b[38;5;66;03m# Calculate initial SMA with proper output field types and convert to Decimal\u001b[39;00m\n\u001b[32m--> \u001b[39m\u001b[32m353\u001b[39m initial_avg = \u001b[43mvalid_movement\u001b[49m\u001b[43m[\u001b[49m\u001b[43m:\u001b[49m\u001b[43mperiod\u001b[49m\u001b[43m]\u001b[49m\u001b[43m.\u001b[49m\u001b[43maggregate\u001b[49m\u001b[43m(\u001b[49m\n\u001b[32m    354\u001b[39m \u001b[43m    \u001b[49m\u001b[43mavg_gain\u001b[49m\u001b[43m=\u001b[49m\u001b[43mCoalesce\u001b[49m\u001b[43m(\u001b[49m\u001b[43mAvg\u001b[49m\u001b[43m(\u001b[49m\u001b[33;43m'\u001b[39;49m\u001b[33;43mgain\u001b[39;49m\u001b[33;43m'\u001b[39;49m\u001b[43m,\u001b[49m\u001b[43m \u001b[49m\u001b[43moutput_field\u001b[49m\u001b[43m=\u001b[49m\u001b[43mDecimalField\u001b[49m\u001b[43m(\u001b[49m\u001b[43mmax_digits\u001b[49m\u001b[43m=\u001b[49m\u001b[32;43m10\u001b[39;49m\u001b[43m,\u001b[49m\u001b[43m \u001b[49m\u001b[43mdecimal_places\u001b[49m\u001b[43m=\u001b[49m\u001b[32;43m4\u001b[39;49m\u001b[43m)\u001b[49m\u001b[43m)\u001b[49m\u001b[43m,\u001b[49m\u001b[43m \u001b[49m\n\u001b[32m    355\u001b[39m \u001b[43m                      \u001b[49m\u001b[43mValue\u001b[49m\u001b[43m(\u001b[49m\u001b[32;43m0\u001b[39;49m\u001b[43m,\u001b[49m\u001b[43m \u001b[49m\u001b[43moutput_field\u001b[49m\u001b[43m=\u001b[49m\u001b[43mDecimalField\u001b[49m\u001b[43m(\u001b[49m\u001b[43mmax_digits\u001b[49m\u001b[43m=\u001b[49m\u001b[32;43m10\u001b[39;49m\u001b[43m,\u001b[49m\u001b[43m \u001b[49m\u001b[43mdecimal_places\u001b[49m\u001b[43m=\u001b[49m\u001b[32;43m4\u001b[39;49m\u001b[43m)\u001b[49m\u001b[43m)\u001b[49m\u001b[43m)\u001b[49m\u001b[43m,\u001b[49m\n\u001b[32m    356\u001b[39m \u001b[43m    \u001b[49m\u001b[43mavg_loss\u001b[49m\u001b[43m=\u001b[49m\u001b[43mCoalesce\u001b[49m\u001b[43m(\u001b[49m\u001b[43mAvg\u001b[49m\u001b[43m(\u001b[49m\u001b[33;43m'\u001b[39;49m\u001b[33;43mloss\u001b[39;49m\u001b[33;43m'\u001b[39;49m\u001b[43m,\u001b[49m\u001b[43m \u001b[49m\u001b[43moutput_field\u001b[49m\u001b[43m=\u001b[49m\u001b[43mDecimalField\u001b[49m\u001b[43m(\u001b[49m\u001b[43mmax_digits\u001b[49m\u001b[43m=\u001b[49m\u001b[32;43m10\u001b[39;49m\u001b[43m,\u001b[49m\u001b[43m \u001b[49m\u001b[43mdecimal_places\u001b[49m\u001b[43m=\u001b[49m\u001b[32;43m4\u001b[39;49m\u001b[43m)\u001b[49m\u001b[43m)\u001b[49m\u001b[43m,\u001b[49m\u001b[43m \u001b[49m\n\u001b[32m    357\u001b[39m \u001b[43m                      \u001b[49m\u001b[43mValue\u001b[49m\u001b[43m(\u001b[49m\u001b[32;43m0\u001b[39;49m\u001b[43m,\u001b[49m\u001b[43m \u001b[49m\u001b[43moutput_field\u001b[49m\u001b[43m=\u001b[49m\u001b[43mDecimalField\u001b[49m\u001b[43m(\u001b[49m\u001b[43mmax_digits\u001b[49m\u001b[43m=\u001b[49m\u001b[32;43m10\u001b[39;49m\u001b[43m,\u001b[49m\u001b[43m \u001b[49m\u001b[43mdecimal_places\u001b[49m\u001b[43m=\u001b[49m\u001b[32;43m4\u001b[39;49m\u001b[43m)\u001b[49m\u001b[43m)\u001b[49m\u001b[43m)\u001b[49m\n\u001b[32m    358\u001b[39m \u001b[43m\u001b[49m\u001b[43m)\u001b[49m\n\u001b[32m    360\u001b[39m \u001b[38;5;66;03m# Ensure we use Decimal consistently\u001b[39;00m\n\u001b[32m    361\u001b[39m avg_gain = initial_avg[\u001b[33m'\u001b[39m\u001b[33mavg_gain\u001b[39m\u001b[33m'\u001b[39m] \u001b[38;5;129;01mor\u001b[39;00m Decimal(\u001b[33m'\u001b[39m\u001b[33m0.0\u001b[39m\u001b[33m'\u001b[39m)\n",
      "\u001b[36mFile \u001b[39m\u001b[32mf:\\OneDrive\\github\\stock_analyzer_bot\\venv\\Lib\\site-packages\\django\\db\\models\\query.py:604\u001b[39m, in \u001b[36mQuerySet.aggregate\u001b[39m\u001b[34m(self, *args, **kwargs)\u001b[39m\n\u001b[32m    601\u001b[39m         \u001b[38;5;28;01mraise\u001b[39;00m \u001b[38;5;167;01mTypeError\u001b[39;00m(\u001b[33m\"\u001b[39m\u001b[33mComplex aggregates require an alias\u001b[39m\u001b[33m\"\u001b[39m)\n\u001b[32m    602\u001b[39m     kwargs[arg.default_alias] = arg\n\u001b[32m--> \u001b[39m\u001b[32m604\u001b[39m \u001b[38;5;28;01mreturn\u001b[39;00m \u001b[38;5;28;43mself\u001b[39;49m\u001b[43m.\u001b[49m\u001b[43mquery\u001b[49m\u001b[43m.\u001b[49m\u001b[43mchain\u001b[49m\u001b[43m(\u001b[49m\u001b[43m)\u001b[49m\u001b[43m.\u001b[49m\u001b[43mget_aggregation\u001b[49m\u001b[43m(\u001b[49m\u001b[38;5;28;43mself\u001b[39;49m\u001b[43m.\u001b[49m\u001b[43mdb\u001b[49m\u001b[43m,\u001b[49m\u001b[43m \u001b[49m\u001b[43mkwargs\u001b[49m\u001b[43m)\u001b[49m\n",
      "\u001b[36mFile \u001b[39m\u001b[32mf:\\OneDrive\\github\\stock_analyzer_bot\\venv\\Lib\\site-packages\\django\\db\\models\\sql\\query.py:616\u001b[39m, in \u001b[36mQuery.get_aggregation\u001b[39m\u001b[34m(self, using, aggregate_exprs)\u001b[39m\n\u001b[32m    614\u001b[39m outer_query.select_related = \u001b[38;5;28;01mFalse\u001b[39;00m\n\u001b[32m    615\u001b[39m compiler = outer_query.get_compiler(using, elide_empty=elide_empty)\n\u001b[32m--> \u001b[39m\u001b[32m616\u001b[39m result = \u001b[43mcompiler\u001b[49m\u001b[43m.\u001b[49m\u001b[43mexecute_sql\u001b[49m\u001b[43m(\u001b[49m\u001b[43mSINGLE\u001b[49m\u001b[43m)\u001b[49m\n\u001b[32m    617\u001b[39m \u001b[38;5;28;01mif\u001b[39;00m result \u001b[38;5;129;01mis\u001b[39;00m \u001b[38;5;28;01mNone\u001b[39;00m:\n\u001b[32m    618\u001b[39m     result = empty_set_result\n",
      "\u001b[36mFile \u001b[39m\u001b[32mf:\\OneDrive\\github\\stock_analyzer_bot\\venv\\Lib\\site-packages\\django\\db\\models\\sql\\compiler.py:1574\u001b[39m, in \u001b[36mSQLCompiler.execute_sql\u001b[39m\u001b[34m(self, result_type, chunked_fetch, chunk_size)\u001b[39m\n\u001b[32m   1572\u001b[39m     cursor = \u001b[38;5;28mself\u001b[39m.connection.cursor()\n\u001b[32m   1573\u001b[39m \u001b[38;5;28;01mtry\u001b[39;00m:\n\u001b[32m-> \u001b[39m\u001b[32m1574\u001b[39m     \u001b[43mcursor\u001b[49m\u001b[43m.\u001b[49m\u001b[43mexecute\u001b[49m\u001b[43m(\u001b[49m\u001b[43msql\u001b[49m\u001b[43m,\u001b[49m\u001b[43m \u001b[49m\u001b[43mparams\u001b[49m\u001b[43m)\u001b[49m\n\u001b[32m   1575\u001b[39m \u001b[38;5;28;01mexcept\u001b[39;00m \u001b[38;5;167;01mException\u001b[39;00m:\n\u001b[32m   1576\u001b[39m     \u001b[38;5;66;03m# Might fail for server-side cursors (e.g. connection closed)\u001b[39;00m\n\u001b[32m   1577\u001b[39m     cursor.close()\n",
      "\u001b[36mFile \u001b[39m\u001b[32mf:\\OneDrive\\github\\stock_analyzer_bot\\venv\\Lib\\site-packages\\django\\db\\backends\\utils.py:122\u001b[39m, in \u001b[36mCursorDebugWrapper.execute\u001b[39m\u001b[34m(self, sql, params)\u001b[39m\n\u001b[32m    120\u001b[39m \u001b[38;5;28;01mdef\u001b[39;00m\u001b[38;5;250m \u001b[39m\u001b[34mexecute\u001b[39m(\u001b[38;5;28mself\u001b[39m, sql, params=\u001b[38;5;28;01mNone\u001b[39;00m):\n\u001b[32m    121\u001b[39m     \u001b[38;5;28;01mwith\u001b[39;00m \u001b[38;5;28mself\u001b[39m.debug_sql(sql, params, use_last_executed_query=\u001b[38;5;28;01mTrue\u001b[39;00m):\n\u001b[32m--> \u001b[39m\u001b[32m122\u001b[39m         \u001b[38;5;28;01mreturn\u001b[39;00m \u001b[38;5;28;43msuper\u001b[39;49m\u001b[43m(\u001b[49m\u001b[43m)\u001b[49m\u001b[43m.\u001b[49m\u001b[43mexecute\u001b[49m\u001b[43m(\u001b[49m\u001b[43msql\u001b[49m\u001b[43m,\u001b[49m\u001b[43m \u001b[49m\u001b[43mparams\u001b[49m\u001b[43m)\u001b[49m\n",
      "\u001b[36mFile \u001b[39m\u001b[32mf:\\OneDrive\\github\\stock_analyzer_bot\\venv\\Lib\\site-packages\\django\\db\\backends\\utils.py:79\u001b[39m, in \u001b[36mCursorWrapper.execute\u001b[39m\u001b[34m(self, sql, params)\u001b[39m\n\u001b[32m     78\u001b[39m \u001b[38;5;28;01mdef\u001b[39;00m\u001b[38;5;250m \u001b[39m\u001b[34mexecute\u001b[39m(\u001b[38;5;28mself\u001b[39m, sql, params=\u001b[38;5;28;01mNone\u001b[39;00m):\n\u001b[32m---> \u001b[39m\u001b[32m79\u001b[39m     \u001b[38;5;28;01mreturn\u001b[39;00m \u001b[38;5;28;43mself\u001b[39;49m\u001b[43m.\u001b[49m\u001b[43m_execute_with_wrappers\u001b[49m\u001b[43m(\u001b[49m\n\u001b[32m     80\u001b[39m \u001b[43m        \u001b[49m\u001b[43msql\u001b[49m\u001b[43m,\u001b[49m\u001b[43m \u001b[49m\u001b[43mparams\u001b[49m\u001b[43m,\u001b[49m\u001b[43m \u001b[49m\u001b[43mmany\u001b[49m\u001b[43m=\u001b[49m\u001b[38;5;28;43;01mFalse\u001b[39;49;00m\u001b[43m,\u001b[49m\u001b[43m \u001b[49m\u001b[43mexecutor\u001b[49m\u001b[43m=\u001b[49m\u001b[38;5;28;43mself\u001b[39;49m\u001b[43m.\u001b[49m\u001b[43m_execute\u001b[49m\n\u001b[32m     81\u001b[39m \u001b[43m    \u001b[49m\u001b[43m)\u001b[49m\n",
      "\u001b[36mFile \u001b[39m\u001b[32mf:\\OneDrive\\github\\stock_analyzer_bot\\venv\\Lib\\site-packages\\django\\db\\backends\\utils.py:92\u001b[39m, in \u001b[36mCursorWrapper._execute_with_wrappers\u001b[39m\u001b[34m(self, sql, params, many, executor)\u001b[39m\n\u001b[32m     90\u001b[39m \u001b[38;5;28;01mfor\u001b[39;00m wrapper \u001b[38;5;129;01min\u001b[39;00m \u001b[38;5;28mreversed\u001b[39m(\u001b[38;5;28mself\u001b[39m.db.execute_wrappers):\n\u001b[32m     91\u001b[39m     executor = functools.partial(wrapper, executor)\n\u001b[32m---> \u001b[39m\u001b[32m92\u001b[39m \u001b[38;5;28;01mreturn\u001b[39;00m \u001b[43mexecutor\u001b[49m\u001b[43m(\u001b[49m\u001b[43msql\u001b[49m\u001b[43m,\u001b[49m\u001b[43m \u001b[49m\u001b[43mparams\u001b[49m\u001b[43m,\u001b[49m\u001b[43m \u001b[49m\u001b[43mmany\u001b[49m\u001b[43m,\u001b[49m\u001b[43m \u001b[49m\u001b[43mcontext\u001b[49m\u001b[43m)\u001b[49m\n",
      "\u001b[36mFile \u001b[39m\u001b[32mf:\\OneDrive\\github\\stock_analyzer_bot\\venv\\Lib\\site-packages\\django\\db\\backends\\utils.py:105\u001b[39m, in \u001b[36mCursorWrapper._execute\u001b[39m\u001b[34m(self, sql, params, *ignored_wrapper_args)\u001b[39m\n\u001b[32m    103\u001b[39m     \u001b[38;5;28;01mreturn\u001b[39;00m \u001b[38;5;28mself\u001b[39m.cursor.execute(sql)\n\u001b[32m    104\u001b[39m \u001b[38;5;28;01melse\u001b[39;00m:\n\u001b[32m--> \u001b[39m\u001b[32m105\u001b[39m     \u001b[38;5;28;01mreturn\u001b[39;00m \u001b[38;5;28;43mself\u001b[39;49m\u001b[43m.\u001b[49m\u001b[43mcursor\u001b[49m\u001b[43m.\u001b[49m\u001b[43mexecute\u001b[49m\u001b[43m(\u001b[49m\u001b[43msql\u001b[49m\u001b[43m,\u001b[49m\u001b[43m \u001b[49m\u001b[43mparams\u001b[49m\u001b[43m)\u001b[49m\n",
      "\u001b[36mFile \u001b[39m\u001b[32mf:\\OneDrive\\github\\stock_analyzer_bot\\venv\\Lib\\site-packages\\psycopg\\cursor.py:97\u001b[39m, in \u001b[36mCursor.execute\u001b[39m\u001b[34m(self, query, params, prepare, binary)\u001b[39m\n\u001b[32m     93\u001b[39m         \u001b[38;5;28mself\u001b[39m._conn.wait(\n\u001b[32m     94\u001b[39m             \u001b[38;5;28mself\u001b[39m._execute_gen(query, params, prepare=prepare, binary=binary)\n\u001b[32m     95\u001b[39m         )\n\u001b[32m     96\u001b[39m \u001b[38;5;28;01mexcept\u001b[39;00m e._NO_TRACEBACK \u001b[38;5;28;01mas\u001b[39;00m ex:\n\u001b[32m---> \u001b[39m\u001b[32m97\u001b[39m     \u001b[38;5;28;01mraise\u001b[39;00m ex.with_traceback(\u001b[38;5;28;01mNone\u001b[39;00m)\n\u001b[32m     98\u001b[39m \u001b[38;5;28;01mreturn\u001b[39;00m \u001b[38;5;28mself\u001b[39m\n",
      "\u001b[31mKeyboardInterrupt\u001b[39m: "
     ]
    }
   ],
   "source": [
    "market_tasks.generate_historical_indicators()"
   ]
  },
  {
   "cell_type": "code",
   "execution_count": null,
   "id": "75dbfb52",
   "metadata": {},
   "outputs": [
    {
     "data": {
      "text/plain": [
       "2561146"
      ]
     },
     "execution_count": 17,
     "metadata": {},
     "output_type": "execute_result"
    }
   ],
   "source": [
    "indicators = StockIndicator.objects.all()\n",
    "indicators.count()"
   ]
  },
  {
   "cell_type": "code",
   "execution_count": null,
   "id": "b087e954",
   "metadata": {},
   "outputs": [],
   "source": []
  }
 ],
 "metadata": {
  "kernelspec": {
   "display_name": "venv",
   "language": "python",
   "name": "python3"
  },
  "language_info": {
   "codemirror_mode": {
    "name": "ipython",
    "version": 3
   },
   "file_extension": ".py",
   "mimetype": "text/x-python",
   "name": "python",
   "nbconvert_exporter": "python",
   "pygments_lexer": "ipython3",
   "version": "3.12.5"
  }
 },
 "nbformat": 4,
 "nbformat_minor": 5
}
