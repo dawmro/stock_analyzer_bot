{
 "cells": [
  {
   "cell_type": "code",
   "execution_count": 1,
   "id": "be686f88-9ab0-4014-aef9-1d6cd02bb679",
   "metadata": {},
   "outputs": [],
   "source": [
    "from setup import init_django"
   ]
  },
  {
   "cell_type": "code",
   "execution_count": 2,
   "id": "d760402c",
   "metadata": {},
   "outputs": [],
   "source": [
    "init_django()"
   ]
  },
  {
   "cell_type": "code",
   "execution_count": 3,
   "id": "3156e855",
   "metadata": {},
   "outputs": [],
   "source": [
    "from market.models import *"
   ]
  },
  {
   "cell_type": "code",
   "execution_count": 4,
   "id": "9e260469",
   "metadata": {},
   "outputs": [],
   "source": [
    "obj1, created1 = Company.objects.get_or_create(name=\"Bitcoin - United States dollar\", ticker=\"X:BTCUSD\")\n",
    "obj1.save()\n",
    "obj2, created2 = Company.objects.get_or_create(name=\"Basic Attention Token - United States dollar\", ticker=\"X:BATUSD\")\n",
    "obj2.save()\n",
    "obj3, created3 = Company.objects.get_or_create(name=\"Bitcoin Cash - United States dollar\", ticker=\"X:BCHUSD\")\n",
    "obj3.save()\n",
    "obj4, created4 = Company.objects.get_or_create(name=\"1inch - United States dollar\", ticker=\"X:1INCHUSD\")\n",
    "obj4.save()"
   ]
  },
  {
   "cell_type": "code",
   "execution_count": 5,
   "id": "f74bc2df",
   "metadata": {},
   "outputs": [
    {
     "data": {
      "text/plain": [
       "4"
      ]
     },
     "execution_count": 5,
     "metadata": {},
     "output_type": "execute_result"
    }
   ],
   "source": [
    "qs = Company.objects.all()\n",
    "qs.count()"
   ]
  },
  {
   "cell_type": "code",
   "execution_count": 6,
   "id": "0b9492e0",
   "metadata": {},
   "outputs": [
    {
     "data": {
      "text/plain": [
       "120"
      ]
     },
     "execution_count": 6,
     "metadata": {},
     "output_type": "execute_result"
    }
   ],
   "source": [
    "indicators = StockIndicator.objects.all()\n",
    "indicators.count()"
   ]
  },
  {
   "cell_type": "code",
   "execution_count": 7,
   "id": "86e88bb8",
   "metadata": {},
   "outputs": [],
   "source": [
    "start_from_scratch = False\n",
    "\n",
    "if start_from_scratch:\n",
    "    indicators.delete()\n",
    "\n"
   ]
  },
  {
   "cell_type": "code",
   "execution_count": 8,
   "id": "76cecc09",
   "metadata": {},
   "outputs": [
    {
     "data": {
      "text/plain": [
       "120"
      ]
     },
     "execution_count": 8,
     "metadata": {},
     "output_type": "execute_result"
    }
   ],
   "source": [
    "indicators = StockIndicator.objects.all()\n",
    "indicators.count()"
   ]
  },
  {
   "cell_type": "code",
   "execution_count": 9,
   "id": "978fad99",
   "metadata": {},
   "outputs": [],
   "source": [
    "from market import tasks as market_tasks"
   ]
  },
  {
   "cell_type": "code",
   "execution_count": 12,
   "id": "207de6b9",
   "metadata": {},
   "outputs": [
    {
     "name": "stdout",
     "output_type": "stream",
     "text": [
      "Starting historical indicators generation...\n",
      "Processing 4 active companies\n",
      "Processing 41 days from 2025-06-30 13:35:18.471435+00:00 to 2025-08-09 13:35:18.471435+00:00\n",
      "Processing company: X:BTCUSD\n",
      "Error for X:BTCUSD on 2025-08-09 13:35:18.471435+00:00: 'NoneType' object has no attribute 'get'\n",
      "Processing indicator batch: 0 to 10 for Company object (1)\n",
      "Inserted 10 indicators, skipped 0 records in batch 0-10\n",
      "Processed 10 out of 10 indicator records for Company object (1)\n",
      "Inserted 10 indicators for X:BTCUSD\n",
      "Skipped 30 days for X:BTCUSD (already exists)\n",
      "Processing company: X:BATUSD\n",
      "Error for X:BATUSD on 2025-08-09 13:35:18.471435+00:00: 'NoneType' object has no attribute 'get'\n",
      "Processing indicator batch: 0 to 10 for Company object (2)\n",
      "Inserted 10 indicators, skipped 0 records in batch 0-10\n",
      "Processed 10 out of 10 indicator records for Company object (2)\n",
      "Inserted 10 indicators for X:BATUSD\n",
      "Skipped 30 days for X:BATUSD (already exists)\n",
      "Processing company: X:BCHUSD\n",
      "Error for X:BCHUSD on 2025-08-09 13:35:18.471435+00:00: 'NoneType' object has no attribute 'get'\n",
      "Processing indicator batch: 0 to 10 for Company object (3)\n",
      "Inserted 10 indicators, skipped 0 records in batch 0-10\n",
      "Processed 10 out of 10 indicator records for Company object (3)\n",
      "Inserted 10 indicators for X:BCHUSD\n",
      "Skipped 30 days for X:BCHUSD (already exists)\n",
      "Processing company: X:1INCHUSD\n",
      "Error for X:1INCHUSD on 2025-08-09 13:35:18.471435+00:00: 'NoneType' object has no attribute 'get'\n",
      "Processing indicator batch: 0 to 10 for Company object (4)\n",
      "Inserted 10 indicators, skipped 0 records in batch 0-10\n",
      "Processed 10 out of 10 indicator records for Company object (4)\n",
      "Inserted 10 indicators for X:1INCHUSD\n",
      "Skipped 30 days for X:1INCHUSD (already exists)\n",
      "Finished generating historical indicators\n"
     ]
    }
   ],
   "source": [
    "market_tasks.generate_historical_indicators(n_days=40)"
   ]
  },
  {
   "cell_type": "code",
   "execution_count": 11,
   "id": "75dbfb52",
   "metadata": {},
   "outputs": [
    {
     "data": {
      "text/plain": [
       "120"
      ]
     },
     "execution_count": 11,
     "metadata": {},
     "output_type": "execute_result"
    }
   ],
   "source": [
    "indicators = StockIndicator.objects.all()\n",
    "indicators.count()"
   ]
  },
  {
   "cell_type": "code",
   "execution_count": null,
   "id": "b087e954",
   "metadata": {},
   "outputs": [],
   "source": []
  }
 ],
 "metadata": {
  "kernelspec": {
   "display_name": "venv",
   "language": "python",
   "name": "python3"
  },
  "language_info": {
   "codemirror_mode": {
    "name": "ipython",
    "version": 3
   },
   "file_extension": ".py",
   "mimetype": "text/x-python",
   "name": "python",
   "nbconvert_exporter": "python",
   "pygments_lexer": "ipython3",
   "version": "3.12.5"
  }
 },
 "nbformat": 4,
 "nbformat_minor": 5
}
