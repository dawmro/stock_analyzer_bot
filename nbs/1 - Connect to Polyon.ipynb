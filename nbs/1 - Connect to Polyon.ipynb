{
 "cells": [
  {
   "cell_type": "code",
   "execution_count": 2,
   "id": "8f0a38b3-f477-4e16-94fd-6d3b85a0ebf0",
   "metadata": {},
   "outputs": [],
   "source": [
    "from decouple import config"
   ]
  },
  {
   "cell_type": "code",
   "execution_count": 3,
   "id": "ce1aa3d5-a97d-4850-bb36-78e6ae51901b",
   "metadata": {},
   "outputs": [],
   "source": [
    "assert config(\"POLOGYON_API_KEY\", default=None, cast=str) is not None"
   ]
  },
  {
   "cell_type": "code",
   "execution_count": 6,
   "id": "e4999d6b-1179-494f-a282-5675fb3bb1a5",
   "metadata": {},
   "outputs": [],
   "source": [
    "POLOGYON_API_KEY = config(\"POLOGYON_API_KEY\", default=None, cast=str)"
   ]
  },
  {
   "cell_type": "code",
   "execution_count": 7,
   "id": "00975802-3b72-49b2-84d9-bb5c06d7ae31",
   "metadata": {},
   "outputs": [],
   "source": [
    "import requests"
   ]
  },
  {
   "cell_type": "code",
   "execution_count": 53,
   "id": "45f413e4-e849-47cb-93af-0535c4686cf1",
   "metadata": {},
   "outputs": [
    {
     "data": {
      "text/plain": [
       "[{'v': 10997.652973953225,\n",
       "  'vw': 97654.7085,\n",
       "  'o': 96805.3,\n",
       "  'c': 98136.51,\n",
       "  'h': 99028,\n",
       "  'l': 96016.63,\n",
       "  't': 1735862400000,\n",
       "  'n': 583393},\n",
       " {'v': 576.9621790599837,\n",
       "  'vw': 96488.8147,\n",
       "  'o': 94757,\n",
       "  'c': 97035,\n",
       "  'h': 97887,\n",
       "  'l': 94521,\n",
       "  't': 1735776000000,\n",
       "  'n': 29992},\n",
       " {'v': 546.4188032799949,\n",
       "  'vw': 93954.3074,\n",
       "  'o': 93758,\n",
       "  'c': 94757,\n",
       "  'h': 95287,\n",
       "  'l': 93072,\n",
       "  't': 1735689600000,\n",
       "  'n': 18517}]"
      ]
     },
     "execution_count": 53,
     "metadata": {},
     "output_type": "execute_result"
    }
   ],
   "source": [
    "ticker = \"X:BTCUSD\"\n",
    "multiplier = \"1\"\n",
    "timespan = \"day\"\n",
    "from_date = \"2025-01-01\"\n",
    "to_date = \"2025-01-03\"\n",
    "timestamp_sort = \"desc\"\n",
    "path = f\"/v2/aggs/ticker/{ticker}/range/{multiplier}/{timespan}/{from_date}/{to_date}/\"\n",
    "url = f\"https://api.polygon.io{path}?sort={timestamp_sort}&apiKey={POLOGYON_API_KEY}\"\n",
    "\n",
    "response = requests.get(url)\n",
    "data = response.json()\n",
    "data['results']\n",
    "\n"
   ]
  },
  {
   "cell_type": "code",
   "execution_count": 54,
   "id": "8599bf80-246c-44a1-b16a-d7af851b745a",
   "metadata": {},
   "outputs": [],
   "source": [
    "response = requests.get(url)"
   ]
  },
  {
   "cell_type": "code",
   "execution_count": 55,
   "id": "ade26027-a908-449b-91f4-076617190d34",
   "metadata": {},
   "outputs": [],
   "source": [
    "data = response.json()"
   ]
  },
  {
   "cell_type": "code",
   "execution_count": 56,
   "id": "7d21e787-f1a9-4442-927d-745998981415",
   "metadata": {},
   "outputs": [
    {
     "data": {
      "text/plain": [
       "{'ticker': 'X:BTCUSD',\n",
       " 'queryCount': 3,\n",
       " 'resultsCount': 3,\n",
       " 'adjusted': True,\n",
       " 'results': [{'v': 10997.652973953225,\n",
       "   'vw': 97654.7085,\n",
       "   'o': 96805.3,\n",
       "   'c': 98136.51,\n",
       "   'h': 99028,\n",
       "   'l': 96016.63,\n",
       "   't': 1735862400000,\n",
       "   'n': 583393},\n",
       "  {'v': 576.9621790599837,\n",
       "   'vw': 96488.8147,\n",
       "   'o': 94757,\n",
       "   'c': 97035,\n",
       "   'h': 97887,\n",
       "   'l': 94521,\n",
       "   't': 1735776000000,\n",
       "   'n': 29992},\n",
       "  {'v': 546.4188032799949,\n",
       "   'vw': 93954.3074,\n",
       "   'o': 93758,\n",
       "   'c': 94757,\n",
       "   'h': 95287,\n",
       "   'l': 93072,\n",
       "   't': 1735689600000,\n",
       "   'n': 18517}],\n",
       " 'status': 'OK',\n",
       " 'request_id': '06ecab4e414dd0f07dce529bf27080c1',\n",
       " 'count': 3}"
      ]
     },
     "execution_count": 56,
     "metadata": {},
     "output_type": "execute_result"
    }
   ],
   "source": [
    "data"
   ]
  },
  {
   "cell_type": "code",
   "execution_count": 50,
   "id": "94e134b7-4a6d-4d93-81dd-6b62feaab82c",
   "metadata": {},
   "outputs": [
    {
     "data": {
      "text/plain": [
       "'X:BTCUSD'"
      ]
     },
     "execution_count": 50,
     "metadata": {},
     "output_type": "execute_result"
    }
   ],
   "source": [
    "data['ticker']"
   ]
  },
  {
   "cell_type": "code",
   "execution_count": 51,
   "id": "39738013",
   "metadata": {},
   "outputs": [
    {
     "data": {
      "text/plain": [
       "[{'v': 546.4188032799949,\n",
       "  'vw': 93954.3074,\n",
       "  'o': 93758,\n",
       "  'c': 94757,\n",
       "  'h': 95287,\n",
       "  'l': 93072,\n",
       "  't': 1735689600000,\n",
       "  'n': 18517},\n",
       " {'v': 576.9621790599837,\n",
       "  'vw': 96488.8147,\n",
       "  'o': 94757,\n",
       "  'c': 97035,\n",
       "  'h': 97887,\n",
       "  'l': 94521,\n",
       "  't': 1735776000000,\n",
       "  'n': 29992},\n",
       " {'v': 10997.652973953225,\n",
       "  'vw': 97654.7085,\n",
       "  'o': 96805.3,\n",
       "  'c': 98136.51,\n",
       "  'h': 99028,\n",
       "  'l': 96016.63,\n",
       "  't': 1735862400000,\n",
       "  'n': 583393}]"
      ]
     },
     "execution_count": 51,
     "metadata": {},
     "output_type": "execute_result"
    }
   ],
   "source": [
    "data['results']"
   ]
  },
  {
   "cell_type": "code",
   "execution_count": null,
   "id": "2d80f1e3",
   "metadata": {},
   "outputs": [],
   "source": []
  }
 ],
 "metadata": {
  "kernelspec": {
   "display_name": "venv",
   "language": "python",
   "name": "python3"
  },
  "language_info": {
   "codemirror_mode": {
    "name": "ipython",
    "version": 3
   },
   "file_extension": ".py",
   "mimetype": "text/x-python",
   "name": "python",
   "nbconvert_exporter": "python",
   "pygments_lexer": "ipython3",
   "version": "3.12.5"
  }
 },
 "nbformat": 4,
 "nbformat_minor": 5
}
