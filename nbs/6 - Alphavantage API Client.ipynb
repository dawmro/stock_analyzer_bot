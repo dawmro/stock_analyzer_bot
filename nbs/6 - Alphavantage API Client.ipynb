{
 "cells": [
  {
   "cell_type": "markdown",
   "id": "d41b022f",
   "metadata": {},
   "source": [
    "TL;DR \n",
    "Alpha Vantage has been disqualified from further consideration due to: the required endpoint being a premium endpoint."
   ]
  },
  {
   "cell_type": "code",
   "execution_count": 2,
   "id": "be686f88-9ab0-4014-aef9-1d6cd02bb679",
   "metadata": {},
   "outputs": [],
   "source": [
    "from decouple import config"
   ]
  },
  {
   "cell_type": "code",
   "execution_count": 3,
   "id": "53e655ea-ff45-4579-904f-b89af6ac3dcd",
   "metadata": {},
   "outputs": [],
   "source": [
    "assert config(\"ALPHA_VANTAGE_API_KEY\", default=None, cast=str) is not None"
   ]
  },
  {
   "cell_type": "code",
   "execution_count": 36,
   "id": "ba308558",
   "metadata": {},
   "outputs": [],
   "source": [
    "import pytz\n",
    "from dataclasses import dataclass\n",
    "from typing import Literal\n",
    "from urllib.parse import urlencode\n",
    "from datetime import datetime\n",
    "from decimal import Decimal\n",
    "import requests\n",
    "\n",
    "ALPHA_VANTAGE_API_KEY = config(\"ALPHA_VANTAGE_API_KEY\", default=None, cast=str)\n",
    "\n",
    "def transform_alpha_vantage_result(timestamp_str, result):\n",
    "    tz = pytz.timezone('UTC')\n",
    "    utc = pytz.utc\n",
    "    timestamp_formats = [\n",
    "        '%Y-%m-%d %H:%M:%S',\n",
    "        '%Y-%m-%d',\n",
    "    ]\n",
    "    timestamp = None\n",
    "    for fmt in timestamp_formats:\n",
    "        try:\n",
    "            timestamp = tz.localize(datetime.strptime(timestamp_str, fmt)).astimezone(utc)\n",
    "            break\n",
    "        except ValueError:\n",
    "            continue\n",
    "\n",
    "    if timestamp is None:\n",
    "        raise ValueError(\n",
    "            f\"Invalid timestamp format: '{timestamp_str}'. \"\n",
    "            f\"Tried formats: {timestamp_formats}.\"\n",
    "        )\n",
    "\n",
    "    return {\n",
    "        'open_price': Decimal(result['1. open']),\n",
    "        'close_price': Decimal(result['4. close']),\n",
    "        'high_price': Decimal(result['2. high']),\n",
    "        'low_price': Decimal(result['3. low']),\n",
    "        'number_of_trades': None,\n",
    "        'volume': Decimal(result['5. volume']),\n",
    "        'volume_weighted_average': None,\n",
    "        'time': timestamp,\n",
    "    }\n",
    "\n",
    "\n",
    "\n",
    "\n",
    "@dataclass\n",
    "class AlphaVantageAPIClient:\n",
    "    symbol: str = \"BTC\"\n",
    "    market: str = \"USD\"\n",
    "    function: Literal[\"DIGITAL_CURRENCY_DAILY\", \"DIGITAL_CURRENCY_WEEKLY\", \"DIGITAL_CURRENCY_MONTHLY\", \"CRYPTO_INTRADAY\"] = \"CRYPTO_INTRADAY\"\n",
    "    interval: Literal[\"1min\", \"5min\", \"15min\", \"30min\", \"60min\"] = \"1min\"\n",
    "    api_key: str = \"\"\n",
    "\n",
    "    def get_api_key(self):\n",
    "        return self.api_key or ALPHA_VANTAGE_API_KEY\n",
    "\n",
    "    def get_headers(self):\n",
    "        api_key = self.get_api_key()\n",
    "        return {}\n",
    "\n",
    "    def get_params(self):\n",
    "        return {\n",
    "            \"apikey\": self.get_api_key(),\n",
    "            \"symbol\": self.symbol,\n",
    "            \"market\": self.market,\n",
    "            \"interval\": self.interval,\n",
    "            \"function\": self.function,    \n",
    "        }\n",
    "    \n",
    "    def generate_url(self, pass_auth=False):\n",
    "        path = \"/query\"\n",
    "        url = f\"https://www.alphavantage.co{path}\"\n",
    "        params = self.get_params()\n",
    "        encoded_params = urlencode(params)\n",
    "        url = f\"{url}?{encoded_params}\"\n",
    "        if pass_auth:\n",
    "            api_key = self.get_api_key()\n",
    "            url += f\"&api_key={api_key}\"\n",
    "        return url\n",
    "\n",
    "    def fetch_data(self):\n",
    "        headers = self.get_headers()\n",
    "        url = self.generate_url()\n",
    "        response = requests.get(url, headers=headers)\n",
    "        response.raise_for_status() # not 200/201\n",
    "        return response.json()\n",
    "\n",
    "    def get_stock_data(self):\n",
    "        data = self.fetch_data()\n",
    "\n",
    "        dataset_key = [x for x in list(data.keys()) if not x.lower() == \"meta data\"][0]\n",
    "        results = data[dataset_key]\n",
    "        dataset = []\n",
    "        try:\n",
    "            for timestamp_str in results.keys():\n",
    "                dataset.append(\n",
    "                    transform_alpha_vantage_result(timestamp_str, results.get(timestamp_str))\n",
    "                )\n",
    "            return dataset\n",
    "        except AttributeError:\n",
    "            return data\n",
    "\n"
   ]
  },
  {
   "cell_type": "code",
   "execution_count": 37,
   "id": "19d78453",
   "metadata": {},
   "outputs": [
    {
     "data": {
      "text/plain": [
       "{'Information': 'Thank you for using Alpha Vantage! This is a premium endpoint. You may subscribe to any of the premium plans at https://www.alphavantage.co/premium/ to instantly unlock all premium endpoints'}"
      ]
     },
     "execution_count": 37,
     "metadata": {},
     "output_type": "execute_result"
    }
   ],
   "source": [
    "stock_api_client = AlphaVantageAPIClient()\n",
    "dataset = stock_api_client.get_stock_data()\n",
    "dataset"
   ]
  },
  {
   "cell_type": "code",
   "execution_count": null,
   "id": "bade48e7",
   "metadata": {},
   "outputs": [],
   "source": []
  }
 ],
 "metadata": {
  "kernelspec": {
   "display_name": "venv",
   "language": "python",
   "name": "python3"
  },
  "language_info": {
   "codemirror_mode": {
    "name": "ipython",
    "version": 3
   },
   "file_extension": ".py",
   "mimetype": "text/x-python",
   "name": "python",
   "nbconvert_exporter": "python",
   "pygments_lexer": "ipython3",
   "version": "3.12.5"
  }
 },
 "nbformat": 4,
 "nbformat_minor": 5
}
