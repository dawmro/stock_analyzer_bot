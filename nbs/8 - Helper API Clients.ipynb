{
 "cells": [
  {
   "cell_type": "code",
   "execution_count": 1,
   "id": "be686f88-9ab0-4014-aef9-1d6cd02bb679",
   "metadata": {},
   "outputs": [],
   "source": [
    "from setup import init_django"
   ]
  },
  {
   "cell_type": "code",
   "execution_count": 2,
   "id": "52644417",
   "metadata": {},
   "outputs": [],
   "source": [
    "init_django()"
   ]
  },
  {
   "cell_type": "code",
   "execution_count": 3,
   "id": "3156e855",
   "metadata": {},
   "outputs": [],
   "source": [
    "import helpers.clients as helper_clients"
   ]
  },
  {
   "cell_type": "code",
   "execution_count": 16,
   "id": "f043c827",
   "metadata": {},
   "outputs": [
    {
     "data": {
      "text/plain": [
       "[{'open_price': 117979.7,\n",
       "  'close_price': 117933.39,\n",
       "  'high_price': 119410,\n",
       "  'low_price': 116900,\n",
       "  'number_of_trades': 413343,\n",
       "  'volume': 7347.667720852066,\n",
       "  'volume_weighted_average': 117957.1335,\n",
       "  'time': datetime.datetime(2025, 7, 29, 0, 0, tzinfo=<UTC>)},\n",
       " {'open_price': 117916.9,\n",
       "  'close_price': 117830.15,\n",
       "  'high_price': 118930,\n",
       "  'low_price': 115728.49,\n",
       "  'number_of_trades': 424221,\n",
       "  'volume': 6108.038171741113,\n",
       "  'volume_weighted_average': 117379.7688,\n",
       "  'time': datetime.datetime(2025, 7, 30, 0, 0, tzinfo=<UTC>)},\n",
       " {'open_price': 117820.7,\n",
       "  'close_price': 115761.13,\n",
       "  'high_price': 119100,\n",
       "  'low_price': 115500,\n",
       "  'number_of_trades': 389756,\n",
       "  'volume': 6199.057455201016,\n",
       "  'volume_weighted_average': 117551.1902,\n",
       "  'time': datetime.datetime(2025, 7, 31, 0, 0, tzinfo=<UTC>)},\n",
       " {'open_price': 115762.4,\n",
       "  'close_price': 113320.3,\n",
       "  'high_price': 116270,\n",
       "  'low_price': 112659,\n",
       "  'number_of_trades': 785869,\n",
       "  'volume': 15544.71100583,\n",
       "  'volume_weighted_average': 114654.882,\n",
       "  'time': datetime.datetime(2025, 8, 1, 0, 0, tzinfo=<UTC>)}]"
      ]
     },
     "execution_count": 16,
     "metadata": {},
     "output_type": "execute_result"
    }
   ],
   "source": [
    "dataset = helper_clients.PolygonAPIClient(ticker=\"X:BTCUSD\", from_date=\"2025-07-29\", to_date=\"2025-08-01\").get_stock_data()\n",
    "dataset\n"
   ]
  },
  {
   "cell_type": "code",
   "execution_count": null,
   "id": "3467e405",
   "metadata": {},
   "outputs": [],
   "source": []
  },
  {
   "cell_type": "code",
   "execution_count": null,
   "id": "8817f049",
   "metadata": {},
   "outputs": [],
   "source": []
  }
 ],
 "metadata": {
  "kernelspec": {
   "display_name": "venv",
   "language": "python",
   "name": "python3"
  },
  "language_info": {
   "codemirror_mode": {
    "name": "ipython",
    "version": 3
   },
   "file_extension": ".py",
   "mimetype": "text/x-python",
   "name": "python",
   "nbconvert_exporter": "python",
   "pygments_lexer": "ipython3",
   "version": "3.12.5"
  }
 },
 "nbformat": 4,
 "nbformat_minor": 5
}
