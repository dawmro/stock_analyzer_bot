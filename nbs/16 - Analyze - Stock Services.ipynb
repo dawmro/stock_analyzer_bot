{
 "cells": [
  {
   "cell_type": "code",
   "execution_count": 1,
   "id": "e85ed483-d2ef-4920-a1b5-51dd0eddf4a6",
   "metadata": {},
   "outputs": [],
   "source": [
    "import setup\n",
    "setup.init_django()"
   ]
  },
  {
   "cell_type": "code",
   "execution_count": 2,
   "id": "9b9ca555-32fb-4f46-a606-48e409b235f7",
   "metadata": {},
   "outputs": [],
   "source": [
    "from market import services as market_services"
   ]
  },
  {
   "cell_type": "code",
   "execution_count": 3,
   "id": "31ffb14d-43f3-4bbb-813b-50526ff9bfd6",
   "metadata": {},
   "outputs": [],
   "source": [
    "ticker = \"X:BTCUSD\"\n",
    "days = 60\n"
   ]
  },
  {
   "cell_type": "code",
   "execution_count": 4,
   "id": "f4a2f847",
   "metadata": {},
   "outputs": [
    {
     "data": {
      "text/plain": [
       "87061"
      ]
     },
     "execution_count": 4,
     "metadata": {},
     "output_type": "execute_result"
    }
   ],
   "source": [
    "queryset = market_services.get_stock_quotes_queryset(ticker, days=days)\n",
    "queryset.count()\n"
   ]
  },
  {
   "cell_type": "code",
   "execution_count": 5,
   "id": "c9f10296",
   "metadata": {},
   "outputs": [
    {
     "data": {
      "text/plain": [
       "{'ma_5': 115198.28,\n",
       " 'ma_20': 116809.7775,\n",
       " 'ma_50': 112911.1156,\n",
       " 'ma_100': 108609.1744,\n",
       " 'ma_200': 99546.6978}"
      ]
     },
     "execution_count": 5,
     "metadata": {},
     "output_type": "execute_result"
    }
   ],
   "source": [
    "averages = market_services.get_daily_moving_averages(ticker)\n",
    "averages\n"
   ]
  },
  {
   "cell_type": "code",
   "execution_count": 6,
   "id": "b5cb40cd",
   "metadata": {},
   "outputs": [
    {
     "data": {
      "text/plain": [
       "{'current_price': 117514.99,\n",
       " 'conservative_target': 127067.30492000001,\n",
       " 'aggressive_target': 132968.73508,\n",
       " 'average_price': 111801.11213114754,\n",
       " 'period_high': 123231.07,\n",
       " 'period_low': 98225.01}"
      ]
     },
     "execution_count": 6,
     "metadata": {},
     "output_type": "execute_result"
    }
   ],
   "source": [
    "price_target = market_services.get_price_target(ticker, days=days, queryset=queryset)\n",
    "price_target\n"
   ]
  },
  {
   "cell_type": "code",
   "execution_count": 7,
   "id": "b9c5d7bb",
   "metadata": {},
   "outputs": [
    {
     "data": {
      "text/plain": [
       "{'avg_volume_datapoint': 4.867815,\n",
       " 'latest_volume_datapoint': 1.2795,\n",
       " 'volume_change_percent_datapoint': -73.71510626430955}"
      ]
     },
     "execution_count": 7,
     "metadata": {},
     "output_type": "execute_result"
    }
   ],
   "source": [
    "volume_trend_datapoint = market_services.get_volume_trend_datapoint(ticker, days=days, queryset=queryset)\n",
    "volume_trend_datapoint"
   ]
  },
  {
   "cell_type": "code",
   "execution_count": 8,
   "id": "cd31c0db",
   "metadata": {},
   "outputs": [
    {
     "data": {
      "text/plain": [
       "{'avg_volume_daily': 7431.27717,\n",
       " 'latest_volume_daily': 8924.1624,\n",
       " 'volume_change_percent_daily': 20.089214758759965}"
      ]
     },
     "execution_count": 8,
     "metadata": {},
     "output_type": "execute_result"
    }
   ],
   "source": [
    "volume_trend_daily = market_services.get_volume_trend_daily(ticker, days=days, queryset=queryset)\n",
    "volume_trend_daily\n"
   ]
  },
  {
   "cell_type": "code",
   "execution_count": 9,
   "id": "096c7158",
   "metadata": {},
   "outputs": [
    {
     "data": {
      "text/plain": [
       "{'rsi': 57.7411, 'avg_gain': 13.2516, 'avg_loss': 9.6984, 'period': 14}"
      ]
     },
     "execution_count": 9,
     "metadata": {},
     "output_type": "execute_result"
    }
   ],
   "source": [
    "rsi = market_services.calculate_rsi(ticker, period=14)\n",
    "rsi"
   ]
  },
  {
   "cell_type": "code",
   "execution_count": null,
   "id": "15b5b513",
   "metadata": {},
   "outputs": [],
   "source": []
  }
 ],
 "metadata": {
  "kernelspec": {
   "display_name": "venv",
   "language": "python",
   "name": "python3"
  },
  "language_info": {
   "codemirror_mode": {
    "name": "ipython",
    "version": 3
   },
   "file_extension": ".py",
   "mimetype": "text/x-python",
   "name": "python",
   "nbconvert_exporter": "python",
   "pygments_lexer": "ipython3",
   "version": "3.12.5"
  }
 },
 "nbformat": 4,
 "nbformat_minor": 5
}
